{
 "cells": [
  {
   "cell_type": "markdown",
   "metadata": {
    "id": "IagZMs0_qjdL"
   },
   "source": [
    "# 1. Introduction\n",
    "\n",
    "Welcome to your fourth assignment. In this assignment, you will build a convolutional neural network step by step. In this notebook, you will implement all the functions required to build a convolutional neural network.\n",
    "\n",
    "After finishing this assignment, you will have a deeper understanding of the process of training a convolutional neural network, which mainly consists of two parts: convolution layer and pooling layer."
   ]
  },
  {
   "cell_type": "markdown",
   "metadata": {
    "id": "yGFR00CQvoaH"
   },
   "source": [
    "# 2. Packages\n",
    "All the packages that you need to finish basic part of this assignment are listed below.\n",
    "*   numpy : The fundamental package for scientific computing with Python.\n",
    "*   matplotlib : A comprehensive library for creating static, animated, and interactive visualizations in Python.\n",
    "*   math : Python has a built-in module that you can use for mathematical tasks.\n",
    "*   pandas.read_csv : Provides functionality for reading a csv dataset from a GitHub repository.\n",
    "* sklearn.model_selection.train_test_split: A function helps you split train and test data.\n",
    "* os: A module provides the facility to establish the interaction between the user and the operating system. You can access the image directory by os.\n",
    "* cv2.imread: It is the module import name for opencv-python.\n",
    "* time: Provides various time-related functions.\n",
    "* google.colab.drive: Let you connect colab and your googol drive.\n",
    "* sys: Let you access system-specific parameters and functions.\n",
    "\n",
    "⚠️ **WARNING** ⚠️: \n",
    "*   Please do not import any other packages in basic part.\n",
    "*   np.random.seed(seed) is used to keep all the random function calls consistent. It will help us grade your work. Please don't change the seed.\n",
    "\n",
    "❗ **Important** ❗: Please do not change the code outside this code bracket.\n",
    "```\n",
    "### START CODE HERE ### (≈ n lines)\n",
    "...\n",
    "### END CODE HERE ###\n",
    "```\n",
    "\n"
   ]
  },
  {
   "cell_type": "code",
   "execution_count": 1,
   "metadata": {
    "id": "YcLLrIEc-4h6"
   },
   "outputs": [],
   "source": [
    "#from google.colab import drive\n",
    "#drive.mount('/content/drive')"
   ]
  },
  {
   "cell_type": "code",
   "execution_count": 2,
   "metadata": {
    "id": "_go37iU6-4k8"
   },
   "outputs": [],
   "source": [
    "import sys\n",
    "sys.path.append(\"C:/Users/user/Desktop/ML/hw4/\") ## the path of the directory where you place dense.py, activation.py ...."
   ]
  },
  {
   "cell_type": "code",
   "execution_count": 3,
   "metadata": {
    "id": "fmTH9UkeqdYf"
   },
   "outputs": [],
   "source": [
    "import os\n",
    "import math\n",
    "import time \n",
    "import numpy as np\n",
    "from cv2 import imread, IMREAD_GRAYSCALE # IMREAD_GRAYSCALE allow you to load the image as gray scale image\n",
    "from pandas import read_csv\n",
    "import matplotlib.pyplot as plt\n",
    "\n",
    "###### import your HW3 code (Don't change this part) ######\n",
    "from Dense import Dense\n",
    "from Activation import Activation\n",
    "from Loss import compute_BCE_cost\n",
    "from Predict import predict\n",
    "##################################\n",
    "\n",
    "output = {}\n",
    "seed = 1\n",
    "np.random.seed(seed)"
   ]
  },
  {
   "cell_type": "markdown",
   "metadata": {
    "id": "VMe4BNRPRQvF"
   },
   "source": [
    "# 3. Convolution layer\n",
    "\n",
    "In this section, you will need to implement a very important part of the convolutional neural network, which is the convolution layer. Convolution layer enables us to capture the important features of input images.\n",
    "\n",
    "You will have to implement two helper functions and the forward pass of the convolution layer. All you need to do is to follow the instructions and understand how each part works."
   ]
  },
  {
   "cell_type": "code",
   "execution_count": 4,
   "metadata": {
    "id": "ADlgENHVRQvG"
   },
   "outputs": [],
   "source": [
    "def zero_pad(X, pad):\n",
    "    \"\"\"\n",
    "    Pad with zeros all images of the dataset X. The padding is applied to the height and width of an image.\n",
    "    \n",
    "    Argument:\n",
    "    X -- python numpy array of shape (m, n_H, n_W, n_C), where m represent the number of examples.\n",
    "    pad -- integer, amount of padding around each image on vertical and horizontal dimensions\n",
    "    \n",
    "    Returns:\n",
    "    X_pad -- padded image of shape (m, n_H + 2*pad, n_W + 2*pad, n_C)\n",
    "    \"\"\"\n",
    "    \n",
    "    # GRADED FUNCTION: zero_padding\n",
    "    ### START CODE HERE ### (≈ 1 line)\n",
    "    X_pad = np.pad(X,((0,0),(pad,pad),(pad,pad),(0,0)),'constant',constant_values=(0,0))\n",
    "    ### END CODE HERE ###\n",
    "    \n",
    "    return X_pad"
   ]
  },
  {
   "cell_type": "code",
   "execution_count": 5,
   "metadata": {
    "id": "nNerbFLTRQvG"
   },
   "outputs": [],
   "source": [
    "class Conv():\n",
    "    def __init__(self, filter_size=2, input_channel=3, output_channel=8, pad=1, stride=1, seed=1):\n",
    "        \n",
    "        self.filter_size= filter_size\n",
    "        self.input_channel=input_channel\n",
    "        self.output_channel=output_channel\n",
    "        self.seed = seed\n",
    "        \n",
    "        self.parameters = {\"pad\": pad, \"stride\": stride}\n",
    "        self.initialize_parameters()\n",
    "        \n",
    "        \n",
    "        self.name=\"conv\"\n",
    "\n",
    "    def initialize_parameters(self):\n",
    "        \"\"\"\n",
    "        Argument:\n",
    "        self.filter_size -- size of the filter\n",
    "        self.input_channel -- size of the input channel\n",
    "        self.output_channel -- size of the output channel\n",
    "        self.parameters -- python dictionary containing your parameters:\n",
    "                           W -- weight matrix of shape (filter_size, filter_size, input channel size, output channel size)\n",
    "                           b -- bias vector of shape (1, 1, 1, output channel size)\n",
    "                           pad -- amount of padding around each image on vertical and horizontal dimensions\n",
    "                           stride -- represent the amount of movement that a filter move in one step\n",
    "        \"\"\"\n",
    "        np.random.seed(seed)\n",
    "\n",
    "        # GRADED FUNCTION: conv_initialization\n",
    "        ### START CODE HERE ### (≈ 8 lines)\n",
    "        limit = math.sqrt(6 / (self.input_channel+ self.output_channel))\n",
    "        W = np.random.uniform(-1*limit,limit,(self.filter_size, self.filter_size, self.input_channel, self.output_channel))\n",
    "        b = np.zeros((1,1,1,self.output_channel))\n",
    "        ### END CODE HERE ###\n",
    "\n",
    "        assert(W.shape == (self.filter_size,self.filter_size,self.input_channel,self.output_channel))\n",
    "        assert(b.shape == (1,1,1,self.output_channel))\n",
    "\n",
    "        self.parameters['W'] = W\n",
    "        self.parameters['b'] = b\n",
    "        \n",
    "    \n",
    "    \n",
    "    def conv_single_step(self, a_slice_prev, W, b):\n",
    "        \"\"\"\n",
    "        Apply a filter W on a_slice_prev.\n",
    "\n",
    "        Arguments:\n",
    "        a_slice_prev -- slice of input data of shape (filter_size, filter_size, n_C_prev)\n",
    "        W -- Weight parameters contained in a window - matrix of shape (filter_size, filter_size, n_C_prev)\n",
    "        b -- Bias parameters contained in a window - matrix of shape (1, 1, 1)\n",
    "\n",
    "        Returns:\n",
    "        Z -- a scalar value, result of convolving the sliding window (W, b) on a slice x of the input data\n",
    "        \"\"\"\n",
    "\n",
    "        # GRADED FUNCTION: conv_single_step\n",
    "        ### START CODE HERE ### (≈ 3 lines)\n",
    "        # Element-wise product between a_slice and W.\n",
    "        s = np.multiply(a_slice_prev, W)\n",
    "        # Sum over all entries of the volume s.\n",
    "        Z = np.sum(s)\n",
    "        # Add bias b to Z. Cast b to a float() so that Z results in a scalar value.\n",
    "        Z = Z + np.sum(b)\n",
    "        ### END CODE HERE ###\n",
    "\n",
    "        return Z\n",
    "    \n",
    "    def forward(self, A_prev):\n",
    "        \"\"\"\n",
    "        Implements the forward propagation for a convolution layer\n",
    "\n",
    "        Arguments:\n",
    "        A_prev -- output activations of the previous layer, numpy array of shape (m, n_H_prev, n_W_prev, n_C_prev)\n",
    "\n",
    "        Returns:\n",
    "        Z -- conv output, numpy array of shape (m, n_H, n_W, n_C)\n",
    "        \"\"\"\n",
    "\n",
    "        # GRADED FUNCTION: conv_forward\n",
    "        ### START CODE HERE ###\n",
    "        # Retrieve dimensions from A_prev's shape (≈1 line)  \n",
    "        (m, n_H_prev, n_W_prev, n_C_prev) = A_prev.shape\n",
    "\n",
    "        # Retrieve dimensions from W's shape (≈1 line)\n",
    "        (f, f, n_C_prev, n_C) = self.parameters['W'].shape\n",
    "\n",
    "\n",
    "        # Compute the dimensions of the convolution output volume using the formula given below.(≈2 lines)\n",
    "        n_H = math.floor((n_H_prev-f+2*self.parameters['pad'])/self.parameters['stride'])+1\n",
    "        n_W = math.floor((n_W_prev-f+2*self.parameters['pad'])/self.parameters['stride'])+1\n",
    "\n",
    "        # Initialize the output volume Z with zeros. (≈1 line)\n",
    "        Z = np.zeros((m, n_H, n_W, n_C))\n",
    "\n",
    "        # if pad!=0, create A_prev_pad by padding A_prev with the parameter \"pad\". (≈1 line)\n",
    "        A_prev_pad = zero_pad(A_prev, self.parameters['pad'])\n",
    "\n",
    "        for i in range(m):                               # loop over the batch of training examples\n",
    "            a_prev_pad = A_prev_pad[i,:,:,:]               # Select ith training example's padded activation\n",
    "            for h in range(n_H):                           # loop over vertical axis of the output volume\n",
    "                for w in range(n_W):                       # loop over horizontal axis of the output volume\n",
    "                    for c in range(n_C):                   # loop over channels (= #filter) of the output volume\n",
    "\n",
    "                        # Find the corners of the current \"slice\" (≈4 lines)\n",
    "                        vert_start = h * self.parameters[\"stride\"]\n",
    "                        vert_end = vert_start + f\n",
    "                        horiz_start = w * self.parameters[\"stride\"]\n",
    "                        horiz_end = horiz_start + f\n",
    "\n",
    "\n",
    "                        # Use the corners to define the slice of a_prev_pad. (≈1 line)\n",
    "                        a_slice_prev = a_prev_pad[vert_start:vert_end, horiz_start:horiz_end, :]\n",
    "\n",
    "                        # Convolve the (3D) slice with the correct filter W and bias b, to get back one output neuron. (≈1 line)\n",
    "                        Z[i, h, w, c] = self.conv_single_step(a_slice_prev, self.parameters[\"W\"][:,:,:,c], self.parameters['b'])\n",
    "\n",
    "        ### END CODE HERE ###\n",
    "\n",
    "        # Making sure your output shape is correct\n",
    "        assert(Z.shape == (m, n_H, n_W, n_C))\n",
    "\n",
    "        # Save information in \"cache\" for the backward pass\n",
    "        self.cache = A_prev\n",
    "\n",
    "        return Z\n",
    "    \n",
    "    def backward(self, dZ):\n",
    "        \"\"\"\n",
    "        Implement the backward propagation for a convolution layer\n",
    "\n",
    "        Arguments:\n",
    "        dZ -- gradient of the cost with respect to the output of the conv layer (Z), numpy array of shape (m, n_H, n_W, n_C)\n",
    "\n",
    "        Returns:\n",
    "        dA_prev -- gradient of the cost with respect to the input of the conv layer (A_prev),\n",
    "                   numpy array of shape (m, n_H_prev, n_W_prev, n_C_prev)\n",
    "        \"\"\"\n",
    "\n",
    "\n",
    "        A_prev = self.cache\n",
    "\n",
    "        # Retrieve dimensions from A_prev's shape\n",
    "        (m, n_H_prev, n_W_prev, n_C_prev) = A_prev.shape\n",
    "\n",
    "        # Retrieve dimensions from W's shape\n",
    "        (f, f, n_C_prev, n_C) = self.parameters[\"W\"].shape\n",
    "\n",
    "\n",
    "        # Retrieve dimensions from dZ's shape\n",
    "        (m, n_H, n_W, n_C) = dZ.shape\n",
    "\n",
    "        # Initialize dA_prev, dW, db with the correct shapes\n",
    "        dA_prev = np.zeros((m, n_H_prev, n_W_prev, n_C_prev))                           \n",
    "        dW = np.zeros((f, f, n_C_prev, n_C))\n",
    "        db = np.zeros((1, 1, 1, n_C))\n",
    "\n",
    "        # Pad A_prev and dA_prev\n",
    "        A_prev_pad = zero_pad(A_prev, self.parameters[\"pad\"])\n",
    "        dA_prev_pad = zero_pad(dA_prev, self.parameters[\"pad\"])\n",
    "\n",
    "        for i in range(m):                       # loop over the training examples\n",
    "\n",
    "            # select ith training example from A_prev_pad and dA_prev_pad\n",
    "            a_prev_pad = A_prev_pad[i]\n",
    "            da_prev_pad = dA_prev_pad[i]\n",
    "\n",
    "            for h in range(n_H):                   # loop over vertical axis of the output volume\n",
    "                for w in range(n_W):               # loop over horizontal axis of the output volume\n",
    "                    for c in range(n_C):           # loop over the channels of the output volume\n",
    "\n",
    "                        # Find the corners of the current \"slice\"\n",
    "                        vert_start = h * self.parameters[\"stride\"]\n",
    "                        vert_end = vert_start + f\n",
    "                        horiz_start = w * self.parameters[\"stride\"]\n",
    "                        horiz_end = horiz_start + f\n",
    "\n",
    "                        # Use the corners to define the slice from a_prev_pad\n",
    "                        a_slice = a_prev_pad[vert_start:vert_end, horiz_start:horiz_end, :]\n",
    "\n",
    "                        # Update gradients for the window and the filter's parameters\n",
    "                        da_prev_pad[vert_start:vert_end, horiz_start:horiz_end, :] += self.parameters[\"W\"][:,:,:,c] * dZ[i, h, w, c]\n",
    "                        dW[:,:,:,c] += a_slice * dZ[i, h, w, c]\n",
    "                        db[:,:,:,c] += dZ[i, h, w, c]\n",
    "\n",
    "            # Set the ith training example's dA_prev to the unpaded da_prev_pad\n",
    "            dA_prev[i, :, :, :] = da_prev_pad[self.parameters[\"pad\"]:da_prev_pad.shape[0]-self.parameters[\"pad\"], \n",
    "                                              self.parameters[\"pad\"]:da_prev_pad.shape[1]-self.parameters[\"pad\"], :]\n",
    "\n",
    "        assert(dA_prev.shape == (m, n_H_prev, n_W_prev, n_C_prev))\n",
    "\n",
    "        self.dW = dW\n",
    "        self.db = db\n",
    "\n",
    "        return dA_prev\n",
    "    \n",
    "    def update(self, learning_rate):\n",
    "        \"\"\"\n",
    "        Update parameters using gradient descent\n",
    "        \n",
    "        Arguments:\n",
    "        learning rate -- step size\n",
    "        \"\"\"\n",
    "\n",
    "        # GRADED FUNCTION: conv_update\n",
    "        ### START CODE HERE ### (≈ 2 lines of code)\n",
    "        self.parameters[\"W\"] = self.parameters[\"W\"] - learning_rate*self.dW\n",
    "        self.parameters[\"b\"] = self.parameters[\"b\"] - learning_rate*self.db\n",
    "        ### END CODE HERE ###"
   ]
  },
  {
   "cell_type": "markdown",
   "metadata": {
    "id": "3Q_4VjV5W_gL"
   },
   "source": [
    "##3.1 initialization\n",
    "Using Glorot uniform initialization to initialize the convolution layer's filters with the parameters: filter_size, input_channel, and output_channel.\n",
    "\n",
    "*   Use random initialization (uniform distribution) for the weight matrices. Draws samples from a uniform distribution within [-limit, limit], where limit = sqrt(6 / (fan_in + fan_out)), fan_in is the **number of input channel** and fan_out is the **number of output channel**. However, in the usual implementation, we will consider fan_in and fan_out as the number of input units and the number of output units.\n",
    "*   Use zero initialization for the biases.\n",
    "\n",
    "Exercise: Create and initialize parameters of a convolution layer using Glorot uniform initialization. (1%)\n",
    "\n",
    "It will take following parameters to initialize the convolution layer:\n",
    "*   filter_size: The filter will be in the shape of (filter_size*filter_size)\n",
    "*   input_channel: size of the input channel\n",
    "*   output_channel: size of the output channel\n",
    "*   pad: amount of padding around each image on vertical and horizontal dimensions\n",
    "*   stride: represent the amount of movement that a filter move in one step"
   ]
  },
  {
   "cell_type": "code",
   "execution_count": 6,
   "metadata": {
    "id": "McQisK1WW-4t"
   },
   "outputs": [
    {
     "name": "stdout",
     "output_type": "stream",
     "text": [
      "W[0][0][0] =  [-0.12256662  0.32544084 -0.73838    -0.29197414 -0.52177613 -0.6021558\n",
      " -0.46342438 -0.22812192]\n",
      "b =  [[[[0. 0. 0. 0. 0. 0. 0. 0.]]]]\n"
     ]
    }
   ],
   "source": [
    "np.random.seed(seed)\n",
    "conv = Conv(filter_size=2, input_channel=3, output_channel=8, pad=2, stride=2)\n",
    "print(\"W[0][0][0] = \",  conv.parameters[\"W\"][0][0][0])\n",
    "print(\"b = \", conv.parameters[\"b\"])\n",
    "\n",
    "np.random.seed(seed)\n",
    "conv = Conv(filter_size=2, input_channel=3, output_channel=16, pad=2, stride=2)\n",
    "output[\"conv_initialization\"] = conv.parameters[\"W\"][0][0][0]"
   ]
  },
  {
   "cell_type": "markdown",
   "metadata": {
    "id": "t50bsMBRTrP6"
   },
   "source": [
    "Expected output: \n",
    "<table>\n",
    "  <tr>\n",
    "    <td>W[0][0][0]: </td>\n",
    "    <td>[-0.12256662  0.32544084 -0.73838    -0.29197414 -0.52177613 -0.6021558 -0.46342438 -0.22812192]</td>\n",
    "  </tr>\n",
    "  <tr>\n",
    "    <td>b: </td>\n",
    "    <td>[[[[0. 0. 0. 0. 0. 0. 0. 0.]]]]</td>\n",
    "  </tr>\n",
    "</table>"
   ]
  },
  {
   "cell_type": "markdown",
   "metadata": {
    "id": "OAHuFnmDIhgY"
   },
   "source": [
    "## 3.2  Zero-Padding\n",
    "\n",
    "Pad around each image on vertical and horizontal dimensions with zero.\n",
    "\n",
    "1. It allows you to use a convolution layer without necessarily shrinking the height and width of the volumes. This is important for building deeper networks since otherwise the height/width would shrink as you go to deeper layers. \n",
    "2. It helps us keep more of the information at the border of an image. Without padding, very few values at the next layer would be affected by pixels as the edges of an image.\n",
    "\n",
    "**Exercise**: Implement the zero_pad() function to pad the input X with the given parameter \"pad\". (3%)\n",
    "\n",
    "This function takes the following inputs:\n",
    "*   X: input.\n",
    "*   pad: amount of padding around each image on vertical and horizontal dimensions."
   ]
  },
  {
   "cell_type": "code",
   "execution_count": 7,
   "metadata": {
    "id": "h9xGiJH5IgyJ"
   },
   "outputs": [
    {
     "name": "stdout",
     "output_type": "stream",
     "text": [
      "x.shape =\n",
      " (4, 3, 3, 2)\n",
      "x_pad.shape =\n",
      " (4, 7, 7, 2)\n",
      "x[0,2,:,0] =\n",
      " [-0.3224172   1.13376944 -0.17242821]\n",
      "x_pad[0,2,:,0] =\n",
      " [ 0.          0.          1.62434536 -0.52817175  0.86540763  0.\n",
      "  0.        ]\n"
     ]
    },
    {
     "data": {
      "image/png": "[encoded data removed]",
      "text/plain": [
       "<Figure size 640x480 with 2 Axes>"
      ]
     },
     "metadata": {},
     "output_type": "display_data"
    }
   ],
   "source": [
    "np.random.seed(seed)\n",
    "x = np.random.randn(4, 3, 3, 2)\n",
    "x_pad = zero_pad(x, 2)\n",
    "print (\"x.shape =\\n\", x.shape)\n",
    "print (\"x_pad.shape =\\n\", x_pad.shape)\n",
    "print (\"x[0,2,:,0] =\\n\", x[0,2,:,0])\n",
    "print (\"x_pad[0,2,:,0] =\\n\", x_pad[0,2,:,0])\n",
    "\n",
    "fig, axarr = plt.subplots(1, 2)\n",
    "axarr[0].set_title('x')\n",
    "axarr[0].imshow(x[0,:,:,0])\n",
    "axarr[1].set_title('x_pad')\n",
    "axarr[1].imshow(x_pad[0,:,:,0])\n",
    "\n",
    "np.random.seed(seed)\n",
    "x = np.random.randn(4, 2, 2, 2)\n",
    "x_pad = zero_pad(x, 1)\n",
    "output[\"zero_padding\"] = x_pad[0,1,:,0]"
   ]
  },
  {
   "cell_type": "markdown",
   "metadata": {
    "id": "snXOn3sETwDb"
   },
   "source": [
    "Expected output: \n",
    "<table>\n",
    "  <tr>\n",
    "    <td>x.shape: </td>\n",
    "    <td>(4, 3, 3, 2)</td>\n",
    "  </tr>\n",
    "  <tr>\n",
    "    <td>x_pad.shape: </td>\n",
    "    <td>(4, 7, 7, 2)</td>\n",
    "  </tr>\n",
    "  <tr>\n",
    "    <td>x[0,2,:,0]: </td>\n",
    "    <td>[-0.3224172   1.13376944 -0.17242821]</td>\n",
    "  </tr>\n",
    "  <tr>\n",
    "    <td>x_pad[0,2,:,0]: </td>\n",
    "    <td>[ 0. 0. 1.62434536 -0.52817175 0.86540763 0. 0.]\n",
    "</td>\n",
    "  </tr>\n",
    "</table>"
   ]
  },
  {
   "cell_type": "markdown",
   "metadata": {
    "id": "GPVifontJlWr"
   },
   "source": [
    "## 3.3 Convolution_single_step\n",
    "In this part, you will implement a single step of convolution, in which you apply the filter to a single position of the input. This will be used to build a convolutional unit.\n",
    "\n",
    "We will convolve an f*f filter with the image by multiplying its values element-wise with the original matrix, then summing them up and adding a bias.\n",
    "\n",
    "**Exercise**: Implement conv_single_step( ). (5%)\n",
    "\n",
    "This function takes the following inputs:\n",
    "*   a_slice_prev: the output of the activation by the previous layer.\n",
    "*   W: the filter with size f*f.\n",
    "*   b: the bias.\n"
   ]
  },
  {
   "cell_type": "code",
   "execution_count": 8,
   "metadata": {
    "id": "02WmPxJKJbJa"
   },
   "outputs": [
    {
     "name": "stdout",
     "output_type": "stream",
     "text": [
      "Z = -6.999089450680221\n"
     ]
    }
   ],
   "source": [
    "np.random.seed(seed)\n",
    "a_slice_prev = np.random.randn(4, 4, 3)\n",
    "W = np.random.randn(4, 4, 3)\n",
    "b = np.random.randn(1, 1, 1)\n",
    "\n",
    "conv = Conv(filter_size=2, input_channel=3, output_channel=8, pad=2, stride=2)\n",
    "Z = conv.conv_single_step(a_slice_prev, W, b)\n",
    "print(\"Z =\", Z)\n",
    "\n",
    "np.random.seed(seed)\n",
    "a_slice_prev = np.random.randn(3, 3, 3)\n",
    "W = np.random.randn(3, 3, 3)\n",
    "b = np.random.randn(1, 1, 1)\n",
    "conv = Conv()\n",
    "Z = conv.conv_single_step(a_slice_prev, W, b)\n",
    "output[\"conv_single_step\"] = Z"
   ]
  },
  {
   "cell_type": "markdown",
   "metadata": {
    "id": "SVHY5VIFVLiC"
   },
   "source": [
    "Expected output: \n",
    "<table>\n",
    "  <tr>\n",
    "    <td>Z: </td>\n",
    "    <td>-6.999089450680221</td>\n",
    "  </tr>\n",
    "</table>"
   ]
  },
  {
   "cell_type": "markdown",
   "metadata": {
    "id": "764-uaZwLGNL"
   },
   "source": [
    "## 3.4 Forward pass\n",
    "In the forward pass, you will take many filters and convolve them through the input. Each 'convolution' gives you a 2D matrix output. You will then stack these outputs to get a 3D volume.\n",
    "\n",
    "Notice that the output shape of the convolution forward will be (H, W, C).\n",
    "* $H= \\lfloor\\frac{H_{prev }-f+2*pad}{stride}\\rfloor+1$\n",
    "* $W= \\lfloor\\frac{W_{prev }-f+2*pad}{stride}\\rfloor+1$\n",
    "* $C = $ number of filters\n",
    "\n",
    "f = filter_size\n",
    "\n",
    "**Exercise**: Implement forward( ) to convolve the filters W on an input activation A_prev. (15%)\n",
    "\n",
    "This function takes the following input:\n",
    "*   A_prev: the output of the activation by the previous layer, it's an array with shape (m, H_prev, W_prev, C_prev).\n",
    "    *  m: number of examples.\n",
    "    *  H_prev, W_prev, C_prev: the height, width, and channel of the output of the previous layer.\n",
    "\n",
    "Here are some steps for you to finish this exercise:\n",
    "1. Define **a_slice_prev**, which represent the input slice of conv_single_step( ).\n",
    "2. To define **a_slice_prev**, you have to define its' corners: **vert_start, vert_end, horiz_start and horiz_end**."
   ]
  },
  {
   "cell_type": "code",
   "execution_count": 21,
   "metadata": {
    "id": "6Ags0LKKRQvH"
   },
   "outputs": [
    {
     "name": "stdout",
     "output_type": "stream",
     "text": [
      "(1, 26, 26, 64)\n"
     ]
    }
   ],
   "source": [
    "np.random.seed(seed) \n",
    "A_prev = np.random.randn(1,107,107,32)\n",
    "conv=Conv(filter_size=56, input_channel=32, output_channel=64, pad=0, stride=2)\n",
    "Z = conv.forward(A_prev)\n",
    "\n",
    "#print(\"Z's mean =\", np.mean(Z))\n",
    "#print(\"Z[3,2,1] =\", Z[3,2,1])\n",
    "#print(\"cache_conv[1][2][3] =\", conv.cache[1][2][3])\n",
    "print(Z.shape)\n",
    "\n",
    "np.random.seed(seed)\n",
    "A_prev = np.random.randn(10,3,3,3)\n",
    "conv=Conv(filter_size=3, input_channel=3, output_channel=16, pad=1, stride=1)\n",
    "Z = conv.forward(A_prev)\n",
    "\n",
    "output[\"conv_forward_1\"] = np.mean(Z)\n",
    "output[\"conv_forward_2\"] = Z[3,2,1]\n",
    "output[\"conv_forward_3\"] = conv.cache[1][2][2]"
   ]
  },
  {
   "cell_type": "markdown",
   "metadata": {
    "id": "5qiBeJbhVTlU"
   },
   "source": [
    "Expected output: \n",
    "<table>\n",
    "  <tr>\n",
    "    <td>Z's mean: </td>\n",
    "    <td>0.0031904169881830785</td>\n",
    "  </tr>\n",
    "  <tr>\n",
    "    <td>Z[3,2,1]: </td>\n",
    "    <td>[ 1.32947002  2.12083471  0.37853495 -3.53602735  1.38816885 -1.01503137\n",
    " -1.01667531  0.86993377]</td>\n",
    "  </tr>\n",
    "  <tr>\n",
    "    <td>cache_conv[1][2][3]: </td>\n",
    "    <td>[-0.20075807  0.18656139  0.41005165]</td>\n",
    "  </tr>\n",
    "</table>"
   ]
  },
  {
   "cell_type": "markdown",
   "metadata": {
    "id": "bbGLz2F_ReRr"
   },
   "source": [
    "## 3.5 Update parameters\n",
    "In this section you will update the parameters of the convolution layer, using gradient descent:\n",
    "\n",
    "$$ W^{[l]} = W^{[l]} - \\alpha \\text{ } dW^{[l]} $$$$ b^{[l]} = b^{[l]} - \\alpha \\text{ } db^{[l]} $$\n",
    "\n",
    "**Exercise**: Implement update( ) to update your parameters using gradient descent. (1%)\n",
    "\n",
    "**Instructions**: \n",
    "*   Update parameters using gradient descent on $W^{[l]}$ and $b^{[l]}$.\n"
   ]
  },
  {
   "cell_type": "code",
   "execution_count": 10,
   "metadata": {
    "id": "QOw8N6q7RgGU"
   },
   "outputs": [
    {
     "name": "stdout",
     "output_type": "stream",
     "text": [
      "W[0][0][0] =  [-1.74691199  0.93719726 -0.21020825  0.78099448 -1.38718376  1.69938289\n",
      " -2.20823614  0.53308498]\n",
      "b =  [[[[ 0.34385368 -0.04359686  0.62000084 -0.69803203  0.44712856\n",
      "    -1.2245077  -0.40349164 -0.59357852]]]]\n"
     ]
    }
   ],
   "source": [
    "conv=Conv(filter_size=2, input_channel=3, output_channel=8, pad=2, stride=2)\n",
    "np.random.seed(seed)\n",
    "conv.dW = np.random.randn(2, 2, 3, 8)\n",
    "conv.db = np.random.randn(1, 1, 1, 8)\n",
    "conv.update(1.0)\n",
    "print(\"W[0][0][0] = \", conv.parameters[\"W\"][0][0][0])\n",
    "print(\"b = \", conv.parameters[\"b\"])\n",
    "\n",
    "conv=Conv(filter_size=3, input_channel=3, output_channel=8, pad=1, stride=2)\n",
    "np.random.seed(seed)\n",
    "conv.dW = np.random.randn(3, 3, 3, 8)\n",
    "conv.db = np.random.randn(1, 1, 1, 8)\n",
    "conv.update(0.1)\n",
    "output[\"conv_update_1\"] = conv.parameters[\"W\"][0][0][0]\n",
    "output[\"conv_update_2\"] = conv.parameters[\"b\"]\n"
   ]
  },
  {
   "cell_type": "markdown",
   "metadata": {
    "id": "3WBrdsS9RsTA"
   },
   "source": [
    "Expected output: \n",
    "<table>\n",
    "  <tr>\n",
    "    <td>W[0][0][0]: </td>\n",
    "    <td>[-1.74691199  0.93719726 -0.21020825  0.78099448 -1.38718376  1.69938289 -2.20823614  0.53308498]</td>\n",
    "  </tr>\n",
    "  <tr>\n",
    "    <td>b: </td>\n",
    "    <td>[[[[ 0.34385368 -0.04359686  0.62000084 -0.69803203  0.44712856\n",
    "    -1.2245077  -0.40349164 -0.59357852]]]]</td>\n",
    "  </tr>\n",
    "</table>"
   ]
  },
  {
   "cell_type": "markdown",
   "metadata": {
    "id": "goYhkmioRQvI"
   },
   "source": [
    "# 4. Maxpooling layer\n",
    "\n",
    "The pooling layer reduces the size (height and width) of the input. It helps reduce computation, as well as helps make feature detectors more invariant to their position in the input. In this section, we will focus on maxpooling layer."
   ]
  },
  {
   "cell_type": "code",
   "execution_count": 11,
   "metadata": {
    "id": "Z8j9VErNRQvI"
   },
   "outputs": [],
   "source": [
    "class MaxPool():\n",
    "    def __init__(self, filter_size=2, stride=2):\n",
    "        \"\"\"\n",
    "        Argument:\n",
    "        self.parameters -- python dictionary containing your parameters:\n",
    "                           f -- size of a filter\n",
    "                           stride -- the amount of movement that a filter move in one step\n",
    "        \"\"\"\n",
    "    \n",
    "        self.parameters = {\"f\": filter_size, \"stride\": stride}\n",
    "        self.name=\"maxpool\"\n",
    "        \n",
    "        \n",
    "    def forward(self, A_prev):\n",
    "        \"\"\"\n",
    "        Implements the forward pass of the max pooling layer\n",
    "\n",
    "        Arguments:\n",
    "        A_prev -- Input data, numpy array of shape (m, n_H_prev, n_W_prev, n_C_prev)\n",
    "\n",
    "        Returns:\n",
    "        A -- output of the pool layer, a numpy array of shape (m, n_H, n_W, n_C)\n",
    "        \"\"\"\n",
    "\n",
    "        # GRADED FUNCTION: maxpool_forward\n",
    "        ### START CODE HERE ###\n",
    "        # Retrieve dimensions from the input shape. (≈1 line)\n",
    "        (m, n_H_prev, n_W_prev, n_C_prev) = A_prev.shape\n",
    "\n",
    "\n",
    "        # Define the dimensions of the output. (≈3 lines)\n",
    "        n_H = math.floor((n_H_prev-self.parameters['f'])/self.parameters['stride'])+1\n",
    "        n_W = math.floor((n_W_prev-self.parameters['f'])/self.parameters['stride'])+1\n",
    "        n_C = n_C_prev\n",
    "\n",
    "        # Initialize output matrix A with zeros. (≈1 line)\n",
    "        A = np.zeros((m, n_H, n_W, n_C))            \n",
    "\n",
    "        for i in range(m):                         # loop over the training examples\n",
    "            for h in range(n_H):                     # loop on the vertical axis of the output volume\n",
    "                for w in range(n_W):                 # loop on the horizontal axis of the output volume\n",
    "                    for c in range (n_C):            # loop over the channels of the output volume\n",
    "\n",
    "                        # Find the corners of the current \"slice\". (≈4 lines)\n",
    "                        vert_start = h * self.parameters[\"stride\"]\n",
    "                        vert_end = vert_start + self.parameters['f']\n",
    "                        horiz_start = w * self.parameters[\"stride\"]\n",
    "                        horiz_end = horiz_start + self.parameters['f']\n",
    "\n",
    "                        # Use the corners to define the current slice on the ith training example of A_prev, channel c. (≈1 line)\n",
    "                        a_prev_slice = A_prev[i,vert_start:vert_end, horiz_start:horiz_end, c]\n",
    "\n",
    "                        # Compute the max pooling operation on a_prev_slice. (≈1 line)\n",
    "                        A[i, h, w, c] = np.max(a_prev_slice)\n",
    "\n",
    "        ### END CODE HERE ###\n",
    "\n",
    "        # Store the input in \"cache\" for backward pass\n",
    "        self.cache = A_prev\n",
    "\n",
    "        # Making sure your output shape is correct\n",
    "        assert(A.shape == (m, n_H, n_W, n_C))\n",
    "\n",
    "        return A\n",
    "    \n",
    "    def create_mask_from_window(self, x):\n",
    "        \"\"\"\n",
    "        Creates a mask from an input x to identify the max entry of x.\n",
    "\n",
    "        Arguments:\n",
    "        x -- Array of shape (filter_size, filter_size)\n",
    "\n",
    "        Returns:\n",
    "        mask -- Array of the same shape as filter, contains a True at the position corresponding to the max entry of x.\n",
    "        \"\"\"\n",
    "\n",
    "        mask = x == np.max(x)\n",
    "\n",
    "        return mask\n",
    "    \n",
    "    def backward(self, dA):\n",
    "        \"\"\"\n",
    "        Implements the backward pass of the max pooling layer\n",
    "\n",
    "        Arguments:\n",
    "        dA -- gradient of cost with respect to the output of the pooling layer, same shape as A \n",
    "\n",
    "        Returns:\n",
    "        dA_prev -- gradient of cost with respect to the input of the pooling layer, same shape as A_prev\n",
    "        \"\"\"\n",
    "\n",
    "        # Retrieve information from cache\n",
    "        A_prev = self.cache\n",
    "\n",
    "        # Retrieve dimensions from A_prev's shape and dA's shape\n",
    "        m, n_H_prev, n_W_prev, n_C_prev = A_prev.shape\n",
    "        m, n_H, n_W, n_C = dA.shape\n",
    "\n",
    "        # Initialize dA_prev with zeros\n",
    "        dA_prev = np.zeros(A_prev.shape)\n",
    "\n",
    "        for i in range(m):  # loop over the training examples\n",
    "            # select training example from A_prev                    \n",
    "            a_prev = A_prev[i]\n",
    "            for h in range(n_H):   # loop on the vertical axis            \n",
    "                for w in range(n_W):  # loop on the horizontal axis             \n",
    "                    for c in range(n_C): # loop over the channels\n",
    "\n",
    "                        # Find the corners of the current \"slice\"          \n",
    "                        vert_start = h * self.parameters[\"stride\"]\n",
    "                        vert_end = vert_start + self.parameters[\"f\"]\n",
    "                        horiz_start = w * self.parameters[\"stride\"]\n",
    "                        horiz_end = horiz_start + self.parameters[\"f\"] \n",
    "\n",
    "                        #Use the corners and \"c\" to define the current slice from a_prev\n",
    "                        a_prev_slice = a_prev[vert_start:vert_end, horiz_start:horiz_end, c]\n",
    "                        # Create the mask from a_prev_slice\n",
    "                        mask = self.create_mask_from_window(a_prev_slice)\n",
    "                        # Set dA_prev to be dA_prev + (the mask multiplied by the correct entry of dA)\n",
    "                        dA_prev[i, vert_start:vert_end, horiz_start:horiz_end, c] += np.multiply(mask, dA[i, h, w, c])\n",
    "\n",
    "\n",
    "\n",
    "        # Make sure your output shape is correct\n",
    "        assert(dA_prev.shape == A_prev.shape)\n",
    "\n",
    "        return dA_prev\n",
    "\n"
   ]
  },
  {
   "cell_type": "markdown",
   "metadata": {
    "id": "YXSF-PhOxauK"
   },
   "source": [
    "## 4.1 Forward pass\n",
    "\n",
    "It will take following parameters to initialize a max pooling layer:\n",
    "*   filter_size: the filter will be in the shape of (filter_size*filter_size)\n",
    "*   stride: the amount of movement that a filter move in one step\n",
    "\n",
    "In the forward pass, you will slide a ( f*f ) filter over the input and store the max value of the window in the output. (f means the filter size)\n",
    "\n",
    "Notice that the output shape of the forward pass will be (H, W, C).\n",
    "* $H= \\lfloor\\frac{H_{prev }-f}{stride}\\rfloor+1$\n",
    "* $W= \\lfloor\\frac{W_{prev }-f}{stride}\\rfloor+1$\n",
    "* $C = C_{prev}$\n",
    "\n",
    "**Exercise**: Create a max pooling layer and implement the forward pass of the pooling layer. (15%)\n",
    "\n",
    "This forward function takes the following input:\n",
    "*   A_prev: the output of the previous layer, it's an array with shape (m, H_prev, W_prev, C_prev).\n",
    "\n",
    "\n",
    "\n",
    "\n"
   ]
  },
  {
   "cell_type": "code",
   "execution_count": 16,
   "metadata": {
    "id": "BpL0HQvQRQvJ"
   },
   "outputs": [
    {
     "name": "stdout",
     "output_type": "stream",
     "text": [
      "(1, 13, 13, 64)\n"
     ]
    }
   ],
   "source": [
    "np.random.seed(seed)\n",
    "A_prev = np.random.randn(1, 26, 26, 64)\n",
    "maxpool=MaxPool(filter_size=2, stride=2)\n",
    "A = maxpool.forward(A_prev)\n",
    "#print(\"A =\", A)\n",
    "print(A.shape)\n",
    "\n",
    "A_prev = np.random.randn(2, 5, 5, 3)\n",
    "maxpool=MaxPool(filter_size=2, stride=1)\n",
    "A = maxpool.forward(A_prev)\n",
    "output[\"maxpool_forward\"] = A"
   ]
  },
  {
   "cell_type": "markdown",
   "metadata": {
    "id": "9vcEzFinVYHP"
   },
   "source": [
    "Expected output: \n",
    "<table>\n",
    "  <tr>\n",
    "    <td>A: </td>\n",
    "    <td>[[[[1.74481176 0.86540763 1.13376944]]] [[[1.13162939 1.51981682 2.18557541]]]]</td>\n",
    "  </tr>\n",
    "</table>"
   ]
  },
  {
   "cell_type": "markdown",
   "metadata": {
    "id": "Wn-VBGGURQvJ"
   },
   "source": [
    "# 5. Flatten layer"
   ]
  },
  {
   "cell_type": "markdown",
   "metadata": {
    "id": "cJN7EvSuaKGW"
   },
   "source": [
    "To connect the convolution layer and the dense layer, you should flatten the output of the convolution layer or max pooling layer before dense layer."
   ]
  },
  {
   "cell_type": "code",
   "execution_count": 13,
   "metadata": {
    "id": "2-F3jskjRQvK"
   },
   "outputs": [],
   "source": [
    "class Flatten():\n",
    "    def __init__(self):\n",
    "        self.name=\"flatten\"\n",
    "\n",
    "    def forward(self, A_prev):\n",
    "        \"\"\"\n",
    "        Implements the forward pass of the flatten layer\n",
    "\n",
    "        Arguments:\n",
    "        A_prev -- Input data, numpy array of shape (m, n_H_prev, n_W_prev, n_C_prev)\n",
    "\n",
    "        Returns:\n",
    "        A -- output of the flatten layer, a 1-dimensional array\n",
    "        \"\"\"\n",
    "\n",
    "        # Save information in \"cache\" for the backward pass\n",
    "        self.cache = A_prev[0].shape\n",
    "\n",
    "        # GRADED FUNCTION: flatten_forward\n",
    "        ### START CODE HERE ### (≈1 line)\n",
    "        A = np.reshape(A_prev,(A_prev.shape[0],A_prev.shape[1]*A_prev.shape[2]*A_prev.shape[3]))\n",
    "        ### END CODE HERE ###\n",
    "        return A\n",
    "\n",
    "    def backward(self, dA):\n",
    "        \"\"\"\n",
    "        Implements the backward pass of the flatten layer\n",
    "\n",
    "        Arguments:\n",
    "        dA -- Input data, a 1-dimensional array\n",
    "\n",
    "        Returns:\n",
    "        dA_prev -- An array with its original shape (the output shape of its' previous layer).\n",
    "        \"\"\"\n",
    "        # GRADED FUNCTION: flatten_backward\n",
    "        ### START CODE HERE ### (≈1 line)\n",
    "        dA_prev = np.reshape(dA,(dA.shape[0],self.cache[0],self.cache[1],self.cache[2]))\n",
    "        ### END CODE HERE ###\n",
    "        return dA_prev"
   ]
  },
  {
   "cell_type": "markdown",
   "metadata": {
    "id": "5Haf0l4nau3y"
   },
   "source": [
    "## 5.1 Forward pass\n",
    "\n",
    "**Exercise**: Implement the forward pass of flatten layer. Turn the input array into a 1-dimensional array. (5%)\n",
    "\n",
    "This function takes the following input:\n",
    "*   A_prev: Input data, it's an array with shape (m, n_H_prev, n_W_prev, n_C_prev).\n"
   ]
  },
  {
   "cell_type": "code",
   "execution_count": 15,
   "metadata": {
    "id": "TF96C0Fyat_4"
   },
   "outputs": [
    {
     "name": "stdout",
     "output_type": "stream",
     "text": [
      "(1, 13, 13, 64)\n",
      "(1, 10816)\n",
      "A.shape = (1, 10816)\n",
      "A[0] = [ 1.62434536 -0.61175641 -0.52817175 ... -0.69539369  0.67231079\n",
      " -0.71030426]\n"
     ]
    }
   ],
   "source": [
    "np.random.seed(seed)\n",
    "A_prev = np.random.randn(1,13,13,64)\n",
    "print(A_prev.shape)\n",
    "flatten = Flatten()\n",
    "A = flatten.forward(A_prev)\n",
    "print(A.shape)\n",
    "print(\"A.shape =\", A.shape)\n",
    "print(\"A[0] =\", A[0])\n",
    "\n",
    "\n",
    "np.random.seed(seed)\n",
    "A_prev = np.random.randn(2,3,3,2)\n",
    "flatten = Flatten()\n",
    "A = flatten.forward(A_prev)\n",
    "output[\"flatten_forward\"] = A[0]"
   ]
  },
  {
   "cell_type": "markdown",
   "metadata": {
    "id": "Rq3qbOjiVhjj"
   },
   "source": [
    "Expected output: \n",
    "<table>\n",
    "  <tr>\n",
    "    <td>A.shape: </td>\n",
    "    <td>(2, 8)</td>\n",
    "  </tr>\n",
    "  <tr>\n",
    "    <td>A[0]: </td>\n",
    "    <td>[ 1.62434536 -0.61175641 -0.52817175 -1.07296862  0.86540763 -2.3015387\n",
    "  1.74481176 -0.7612069 ]</td>\n",
    "  </tr>\n",
    "</table>"
   ]
  },
  {
   "cell_type": "markdown",
   "metadata": {
    "id": "qdWPIB6_a8_n"
   },
   "source": [
    "## 5.2  Backward pass\n",
    "\n",
    "**Exercise**: Implement the backward pass of flatten layer. Turn the input array back to its original shape.(the output shape of its' previous layer). (5%)\n",
    "\n",
    "This function takes the following input:\n",
    "*   dA: the output of backward pass from the next layer, it's a 1-dimensional array."
   ]
  },
  {
   "cell_type": "code",
   "execution_count": 15,
   "metadata": {
    "id": "dY8vpJPLauWd"
   },
   "outputs": [
    {
     "name": "stdout",
     "output_type": "stream",
     "text": [
      "B.shape = (2, 2, 2, 2)\n",
      "B[0] = [[[ 1.62434536 -0.61175641]\n",
      "  [-0.52817175 -1.07296862]]\n",
      "\n",
      " [[ 0.86540763 -2.3015387 ]\n",
      "  [ 1.74481176 -0.7612069 ]]]\n"
     ]
    }
   ],
   "source": [
    "np.random.seed(seed)\n",
    "A_prev = np.random.randn(2,2,2,2)\n",
    "flatten = Flatten()\n",
    "A = flatten.forward(A_prev)\n",
    "B = flatten.backward(A)\n",
    "print(\"B.shape =\", B.shape)\n",
    "print(\"B[0] =\", B[0])\n",
    "\n",
    "# B and A_prev should be same\n",
    "assert((B==A_prev).all())\n",
    "\n",
    "np.random.seed(seed)\n",
    "A_prev = np.random.randn(4,3,3,3)\n",
    "flatten = Flatten()\n",
    "A = flatten.forward(A_prev)\n",
    "B = flatten.backward(A)\n",
    "output[\"flatten_backward\"] = B[0]\n",
    "\n"
   ]
  },
  {
   "cell_type": "markdown",
   "metadata": {
    "id": "3khMiPehVjIV"
   },
   "source": [
    "Expected output: \n",
    "<table>\n",
    "  <tr>\n",
    "    <td>B.shape: </td>\n",
    "    <td>(2, 2, 2, 2)</td>\n",
    "  </tr>\n",
    "  <tr>\n",
    "    <td>B[0]: </td>\n",
    "    <td>[[[ 1.62434536 -0.61175641]\n",
    "  [-0.52817175 -1.07296862]]\n",
    "  [[ 0.86540763 -2.3015387 ]\n",
    "  [ 1.74481176 -0.7612069 ]]]</td>\n",
    "  </tr>\n",
    "</table>"
   ]
  },
  {
   "cell_type": "markdown",
   "metadata": {
    "id": "RYqpQu6Eye7h"
   },
   "source": [
    "# 6. Model\n",
    "Alright, now you have all the tools that are needed to build a convolutional neural network. Let's get started! Use the knowledge you learned from assignment 4 to finish this part. But there is some difference:\n",
    "\n",
    "1. In this part, we will call model.add( ) to add a layer into the model. For example:\n",
    "* model.add(Conv( )): add a convolution layer into the model.\n",
    "* model.add(Dense( )): add a dense layer into the model.\n",
    "* model.add(Activation( )): add an activation layer into the model.\n",
    "\n",
    "2. Because the dense layer you implement in assignment3 takes the input shape as [:, m], where m represents the number of examples. However, when the training data go through the convolution layer and maxpool layer, its shape will be [m,:]. As a consequence, in the forward pass, the output of flatten.forward( ) need to be transposed. Similarly, in the backward pass, before the data goes into flatten.backward( ), it needs to be transposed again.\n"
   ]
  },
  {
   "cell_type": "code",
   "execution_count": 16,
   "metadata": {
    "id": "7dWrCCkPRQvK"
   },
   "outputs": [],
   "source": [
    "class Model():\n",
    "    def __init__(self):       \n",
    "        self.layers=[]\n",
    "\n",
    "    def add(self, layer):\n",
    "        self.layers.append(layer)\n",
    "\n",
    "    def forward(self, X):\n",
    "        A = X\n",
    "        # GRADED FUNCTION: model\n",
    "        ### START CODE HERE ### (≈ 5 lines)\n",
    "        for l in range(len(self.layers)):\n",
    "            if(self.layers[l].name==\"flatten\"):\n",
    "                A=self.layers[l].forward(A).T # Transpose after flatten layer\n",
    "            else:\n",
    "                A=self.layers[l].forward(A)\n",
    "        ### END CODE HERE ###\n",
    "        return A\n",
    "\n",
    "    def backward(self, AL=None, Y=None):\n",
    "        L = len(self.layers)\n",
    "\n",
    "        # GRADED FUNCTION: model\n",
    "        ### START CODE HERE ### (≈ 7 lines)\n",
    "        if self.layers[-1].name == \"sigmoid\":\n",
    "            ϵ = 1e-5\n",
    "            dAL = - (np.divide(Y, AL + ϵ) - np.divide(1 - Y, 1 - AL + ϵ))\n",
    "            dZ = self.layers[-1].backward(dA=dAL)  #activation layer backward\n",
    "            dA_prev = self.layers[-2].backward(dZ) #linear layer backward\n",
    "        else:\n",
    "            dZ = self.layers[-1].backward(Y=Y)\n",
    "            dA_prev = self.layers[-2].backward(dZ)\n",
    "        ### END CODE HERE ###\n",
    "\n",
    "        \n",
    "        # Loop from l=L-3 to l=0\n",
    "        # GRADED FUNCTION: model\n",
    "        ### START CODE HERE ### (≈ 5 lines)\n",
    "        for l in reversed(range(L-2)):\n",
    "            if(self.layers[l].name==\"flatten\"):\n",
    "                dA_prev=self.layers[l].backward(dA_prev.T) # Transpose before goes into flatten layer\n",
    "            else:\n",
    "                dA_prev=self.layers[l].backward(dA_prev)\n",
    "        ### END CODE HERE ###\n",
    "\n",
    "        return dA_prev\n",
    "\n",
    "    def update(self, learning_rate):\n",
    "        \"\"\"\n",
    "        Arguments:\n",
    "        learning_rate -- step size\n",
    "        \"\"\"\n",
    "        \n",
    "        # GRADED FUNCTION: model\n",
    "        # Only convolution layer and dense layer have to update parameters\n",
    "        ### START CODE HERE ### (≈ 3 lines)\n",
    "        L = len(self.layers)\n",
    "        for i in range(L):\n",
    "            if(self.layers[i].name==\"conv\" or self.layers[i].name==\"dense\"):\n",
    "                self.layers[i].parameters[\"W\"] = self.layers[i].parameters[\"W\"] - learning_rate*self.layers[i].dW\n",
    "                self.layers[i].parameters[\"b\"] = self.layers[i].parameters[\"b\"] - learning_rate*self.layers[i].db\n",
    "        ### END CODE HERE ###\n",
    "        "
   ]
  },
  {
   "cell_type": "markdown",
   "metadata": {
    "id": "36my0zWnlv3K"
   },
   "source": [
    "## 6.1 Model forward, backward and update:\n",
    "**Exercise**: Here is an exercise to make sure your model works correctly. (5%)"
   ]
  },
  {
   "cell_type": "code",
   "execution_count": 17,
   "metadata": {
    "id": "gN-8NQ_KRQvK"
   },
   "outputs": [
    {
     "name": "stdout",
     "output_type": "stream",
     "text": [
      "[ 0.36135338 -0.08462336 -0.00125604 -0.75846788 -0.10766646 -0.30566004\n",
      " -0.61608989  0.17289454]\n",
      "[[[[-0.17413437 -1.16136974  2.20912177  1.09197291  1.09878205\n",
      "    -0.99630689  2.22696484 -0.20973623]]]]\n",
      "[-2.14606168 -0.75085185 -1.19750977 -0.89165346 -0.91436402 -0.76752998\n",
      " -1.30207295 -0.52670234]\n",
      "[[-0.47493516]]\n"
     ]
    }
   ],
   "source": [
    "np.random.seed(seed)\n",
    "A = np.random.randn(4,10,10,3)\n",
    "Y = np.array([[1,0,1,0]])\n",
    "\n",
    "model=Model()\n",
    "model.add(Conv(filter_size=3, input_channel=3, output_channel=8, pad=1, stride=2))\n",
    "model.add(Activation(\"relu\"))\n",
    "model.add(MaxPool(filter_size=2, stride=2))\n",
    "model.add(Flatten())\n",
    "model.add(Dense(32, 1))\n",
    "model.add(Activation(\"sigmoid\"))\n",
    "\n",
    "\n",
    "AL = model.forward(A)\n",
    "dA_prev = model.backward(AL=AL, Y=Y)\n",
    "model.update(0.01)\n",
    "\n",
    "print(model.layers[0].dW[0,0,0])\n",
    "print(model.layers[0].db)\n",
    "print(model.layers[4].dW[0,:8])\n",
    "print(model.layers[4].db)\n",
    "\n",
    "\n",
    "np.random.seed(seed)\n",
    "A = np.random.randn(4,8,8,3)\n",
    "Y = np.array([[1,1,0,0]])\n",
    "\n",
    "model=Model()\n",
    "model.add(Conv(filter_size=3, input_channel=3, output_channel=16, pad=1, stride=2))\n",
    "model.add(Activation(\"relu\"))\n",
    "model.add(MaxPool(filter_size=2, stride=2))\n",
    "model.add(Flatten())\n",
    "model.add(Dense(64, 1))\n",
    "model.add(Activation(\"sigmoid\"))\n",
    "\n",
    "\n",
    "AL = model.forward(A)\n",
    "dA_prev = model.backward(AL=AL, Y=Y)\n",
    "model.update(0.001)\n",
    "\n",
    "output[\"model_1\"] = model.layers[0].dW[0,0,0]\n",
    "output[\"model_2\"] = model.layers[0].db\n",
    "output[\"model_3\"] = model.layers[4].dW[0,:8]\n",
    "output[\"model_4\"] = model.layers[4].db"
   ]
  },
  {
   "cell_type": "markdown",
   "metadata": {
    "id": "vGTtpnWcVvce"
   },
   "source": [
    "Expected output: \n",
    "<table>\n",
    "  <tr>\n",
    "    <td>model.layers[0].dW[0,0,0]: </td>\n",
    "    <td>[ 0.36135339 -0.08462337 -0.00125603 -0.75846791 -0.10766644 -0.30566005\n",
    " -0.6160899   0.17289454]</td>\n",
    "  </tr>\n",
    "  <tr>\n",
    "    <td>model.layers[0].db: </td>\n",
    "    <td>[[[[-0.17413437 -1.16136976  2.2091218   1.09197293  1.09878206\n",
    "    -0.99630691  2.22696487 -0.20973624]]]]</td>\n",
    "  </tr>\n",
    "  <tr>\n",
    "    <td>model.layers[4].dW[0,:8]: </td>\n",
    "    <td>[-2.14606176 -0.75085187 -1.19750975 -0.8916535  -0.91436404 -0.76753\n",
    " -1.30207298 -0.52670234]</td>\n",
    "  </tr>\n",
    "  <tr>\n",
    "    <td>model.layers[4].db: </td>\n",
    "    <td>[[-0.47493517]]</td>\n",
    "  </tr>\n",
    "</table>"
   ]
  },
  {
   "cell_type": "markdown",
   "metadata": {
    "id": "9EC0qy26RQvN"
   },
   "source": [
    "# 7. Binary classification\n",
    "\n",
    "Congratulations on implementing all the functions by yourself. You have done an incredible job! 👏\n",
    "\n",
    "Now you have all the tools you need to get started with classification. In this section, you will build a binary classifier using the functions you had previously written. You will create a model that can determine whether a CXR image is normal or not. There will be 600 training images and 60 testing images, and the size of all images are 32 * 32 * 1.\n",
    "\n",
    "\n",
    "**Exercise**: Implement a binary classifier and tune the hyperparameter. You will get all 10% if your prediction achieves accuracy greater than 0.55 in testing data. (10%)\n",
    "\n",
    "**Instruction**:\n",
    "*   You can only use the functions you had previously written.\n",
    "*   Preprocess the data by using min-max scaling to normalize X. Normalize the values of each feature between 0 and 1.\n",
    "*   Use batch gradient descent to train the model.\n",
    "\n"
   ]
  },
  {
   "cell_type": "markdown",
   "metadata": {
    "id": "K2X2fb7aoJTg"
   },
   "source": [
    "## 7.1 Data preprocessing"
   ]
  },
  {
   "cell_type": "code",
   "execution_count": 18,
   "metadata": {
    "id": "QWHxt5cDZ9mg"
   },
   "outputs": [
    {
     "name": "stdout",
     "output_type": "stream",
     "text": [
      "(600, 32, 32, 1)\n"
     ]
    }
   ],
   "source": [
    "PATH = \"Training_data\"  #path to your training image\n",
    "file_dir = os.listdir(PATH) #read the images from the directory\n",
    "file_dir.sort() #Make sure the images are loaded in order\n",
    "X_train = np.array([])\n",
    "\n",
    "# Prepare X_train\n",
    "# The shape of X_train will be (number of examples, height of image, width of image, channel of image)\n",
    "# GRADED CODE: Binary classification (Data preprocessing)\n",
    "# hint: use imread(PATH, IMREAD_GRAYSCALE) to load image\n",
    "### START CODE HERE ### (≈ 9 line)\n",
    "for idx,i in enumerate(file_dir):\n",
    "    #print((imread(\"Training_data/\"+i)).shape)\n",
    "    temp = (imread(\"Training_data/\"+i, IMREAD_GRAYSCALE))\n",
    "    temp = temp.astype(np.float32)\n",
    "    for i in range(temp.shape[0]):\n",
    "        max = np.max(temp[i,:])\n",
    "        min = np.min(temp[i,:])\n",
    "        temp[i,:] = (lambda x:(x-min)/(max-min))(temp[i,:])\n",
    "   \n",
    "    #temp = temp.astype(np.int8)\n",
    "    if idx==0:\n",
    "        X_train = np.zeros((len(file_dir),temp.shape[0],temp.shape[1],1))\n",
    "        X_train[idx,:,:,0] = temp\n",
    "    else:\n",
    "        #X_train = np.stack((X_train,(imread(\"Training_data/\"+i))), axis = -1)\n",
    "        X_train[idx,:,:,0] = temp\n",
    "        \n",
    "    #np.vstack(X_train,(imread(\"Training_data/\"+i)))\n",
    "    \n",
    "print(X_train.shape)\n",
    "### END CODE HERE ###\n",
    "        \n",
    "\n",
    "\n"
   ]
  },
  {
   "cell_type": "code",
   "execution_count": 19,
   "metadata": {
    "id": "I527tbN2_Obg"
   },
   "outputs": [
    {
     "name": "stdout",
     "output_type": "stream",
     "text": [
      "(60, 32, 32, 1)\n"
     ]
    }
   ],
   "source": [
    "PATH = \"Testing_data\"  #path to your testing image\n",
    "file_dir = os.listdir(PATH)\n",
    "file_dir.sort()\n",
    "X_test = np.array([])\n",
    "\n",
    "# Prepare X_test\n",
    "# The shape of X_teset will be (number of examples, height of image, width of image, channel of image)\n",
    "# GRADED CODE: Binary classification (Data preprocessing)\n",
    "### START CODE HERE ### (≈ 9 line)\n",
    "for idx,i in enumerate(file_dir):\n",
    "    #print((imread(\"Training_data/\"+i)).shape)\n",
    "    temp = (imread(\"Testing_data/\"+i, IMREAD_GRAYSCALE))\n",
    "    temp = temp.astype(np.float32)\n",
    "    for i in range(temp.shape[0]):\n",
    "        max = np.max(temp[i,:])\n",
    "        min = np.min(temp[i,:])\n",
    "        temp[i,:] = (lambda x:(x-min)/(max-min))(temp[i,:])\n",
    "    #temp = temp.astype(np.int8)\n",
    "    if idx==0:\n",
    "        X_test = np.zeros((len(file_dir),temp.shape[0],temp.shape[1],1))\n",
    "        X_test[idx,:,:,0] = temp\n",
    "    else:\n",
    "        #X_train = np.stack((X_train,(imread(\"Training_data/\"+i))), axis = -1)\n",
    "        X_test[idx,:,:,0] = temp\n",
    "        \n",
    "    #np.vstack(X_train,(imread(\"Training_data/\"+i)))\n",
    "    \n",
    "print(X_test.shape)\n",
    "\n",
    "### END CODE HERE ###\n",
    "        \n",
    "\n",
    "\n"
   ]
  },
  {
   "cell_type": "code",
   "execution_count": 20,
   "metadata": {
    "id": "bxaslew_lkKY"
   },
   "outputs": [
    {
     "name": "stdout",
     "output_type": "stream",
     "text": [
      "(600, 1)\n"
     ]
    }
   ],
   "source": [
    "data = read_csv(\"Training_label.csv\")\n",
    "\n",
    "y_train = []\n",
    "# Prepare y_train\n",
    "# The shape of y_train will be (number of examples, 1), we will transpose y_train latter.\n",
    "# GRADED CODE: Binary classification (Data preprocessing)\n",
    "### START CODE HERE ### (≈ 2 line)\n",
    "data_temp = data.iloc[:,1]\n",
    "y_train = np.zeros((data_temp.shape[0],1))\n",
    "y_train[:,0] = data_temp\n",
    "print(y_train.shape)\n",
    "### END CODE HERE ###\n",
    "\n"
   ]
  },
  {
   "cell_type": "code",
   "execution_count": 22,
   "metadata": {
    "id": "iwhza4gUboQ6"
   },
   "outputs": [],
   "source": [
    "from sklearn.model_selection import train_test_split\n",
    "#You can split training and validation set here. (Optional)\n",
    "### START CODE HERE ###\n",
    "m = X_train.shape[0] \n",
    "permutation = list(np.random.permutation(m))\n",
    "X_train2 = X_train[permutation,:]\n",
    "y_train2 = y_train[permutation,:]\n",
    "X_val, y_val = X_train2[480:,:], y_train2[480:,:]\n",
    "X_train, y_train = X_train2[:480,:], y_train2[:480,:]\n",
    "### END CODE HERE ###"
   ]
  },
  {
   "cell_type": "code",
   "execution_count": 23,
   "metadata": {
    "id": "wKkOpp6uyCQY"
   },
   "outputs": [
    {
     "data": {
      "image/png": "[encoded data removed]",
      "text/plain": [
       "<Figure size 640x480 with 9 Axes>"
      ]
     },
     "metadata": {},
     "output_type": "display_data"
    },
    {
     "name": "stdout",
     "output_type": "stream",
     "text": [
      "Train: X=(480, 32, 32, 1), y=(1, 480)\n",
      "Test: X=(60, 32, 32, 1)\n"
     ]
    }
   ],
   "source": [
    "y_train = y_train.T #transpose y_train\n",
    "y_val = y_val.T\n",
    "# plot first few images\n",
    "for i in range(9):\n",
    "    # define subplot\n",
    "    plt.subplot(330 + 1 + i)\n",
    "    # plot raw pixel data\n",
    "    plt.imshow(X_train[i].squeeze(), cmap='gray', vmin=0, vmax=1)\n",
    "# show the figure\n",
    "plt.show()\n",
    "\n",
    "# check the shape of training data and testing data\n",
    "print('Train: X=%s, y=%s' % (X_train.shape, y_train.shape))\n",
    "print('Test: X=%s' % (X_test.shape, ))"
   ]
  },
  {
   "cell_type": "markdown",
   "metadata": {
    "id": "qdK9_gnZAjYD"
   },
   "source": [
    "## 7.2 mini-batch gradient descent"
   ]
  },
  {
   "cell_type": "code",
   "execution_count": 116,
   "metadata": {
    "id": "LVTeqK9TqMwP"
   },
   "outputs": [],
   "source": [
    "def random_mini_batches(X, Y, mini_batch_size = 64):\n",
    "    \"\"\"\n",
    "    Creates a list of random minibatches from (X, Y)\n",
    "    \n",
    "    Arguments:\n",
    "    X -- input data, of shape !!!!!!!!!!!(number of examples ,input size)!!!!!!!!!!!\n",
    "    Y -- true \"label\" vector, of shape (number of classes, number of examples)\n",
    "    mini_batch_size -- size of the mini-batches, integer\n",
    "    \n",
    "    Returns:\n",
    "    mini_batches -- list of synchronous (mini_batch_X, mini_batch_Y)\n",
    "    \"\"\"\n",
    "    \n",
    "    m = X.shape[0]  # number of training examples\n",
    "    mini_batches = []\n",
    "\n",
    "    # GRADED CODE: Binary classification\n",
    "    ### START CODE HERE ###\n",
    "        \n",
    "    # Step 1: Shuffle (X, Y)\n",
    "    permutation = list(np.random.permutation(m))\n",
    "    shuffled_X = X[permutation,:]\n",
    "    shuffled_Y = Y[:,permutation]\n",
    "    \n",
    "    inc = mini_batch_size\n",
    "\n",
    "    # Step 2 - Partition (shuffled_X, shuffled_Y).\n",
    "    # Cases with a complete mini batch size only i.e each of 64 examples.\n",
    "    num_complete_minibatches = math.floor(m / mini_batch_size) # number of mini batches of size mini_batch_size in your partitionning\n",
    "    for k in range(0, num_complete_minibatches):\n",
    "        # (approx. 2 lines)\n",
    "        mini_batch_X = shuffled_X[k*inc:(k+1)*inc,:]\n",
    "        mini_batch_Y = shuffled_Y[:,k*inc:(k+1)*inc]\n",
    "        mini_batch = (mini_batch_X, mini_batch_Y)\n",
    "        mini_batches.append(mini_batch)\n",
    "    \n",
    "    # For handling the end case (last mini-batch < mini_batch_size i.e less than 64)\n",
    "    if m % mini_batch_size != 0:\n",
    "        #(approx. 2 lines)\n",
    "        mini_batch_X = X[num_complete_minibatches*inc:,:]\n",
    "        mini_batch_Y = Y[:,num_complete_minibatches*inc:]\n",
    "        mini_batch = (mini_batch_X, mini_batch_Y)\n",
    "        mini_batches.append(mini_batch)\n",
    "    \n",
    "    \n",
    "    return mini_batches\n",
    "\n",
    "    ### END CODE HERE ###"
   ]
  },
  {
   "cell_type": "markdown",
   "metadata": {
    "id": "5FIrnqYMFGRq"
   },
   "source": [
    "## 7.3 Start training"
   ]
  },
  {
   "cell_type": "code",
   "execution_count": 117,
   "metadata": {
    "id": "1CBktduDyKd6"
   },
   "outputs": [
    {
     "name": "stdout",
     "output_type": "stream",
     "text": [
      "epoch:  0\n",
      "Cost after iteration 0: 0.642787\n",
      "epoch:  1\n",
      "Cost after iteration 1: 0.600683\n",
      "epoch:  2\n",
      "Cost after iteration 2: 0.448760\n",
      "epoch:  3\n",
      "Cost after iteration 3: 0.419931\n",
      "epoch:  4\n",
      "Cost after iteration 4: 0.470769\n",
      "epoch:  5\n",
      "Cost after iteration 5: 0.445174\n",
      "epoch:  6\n",
      "Cost after iteration 6: 0.423684\n",
      "epoch:  7\n",
      "Cost after iteration 7: 0.419624\n",
      "epoch:  8\n",
      "Cost after iteration 8: 0.426665\n",
      "epoch:  9\n",
      "Cost after iteration 9: 0.360752\n",
      "epoch:  10\n",
      "Cost after iteration 10: 0.415866\n",
      "epoch:  11\n",
      "Cost after iteration 11: 0.284292\n",
      "epoch:  12\n",
      "Cost after iteration 12: 0.393424\n",
      "epoch:  13\n",
      "Cost after iteration 13: 0.358637\n",
      "epoch:  14\n",
      "Cost after iteration 14: 0.260702\n",
      "epoch:  15\n",
      "Cost after iteration 15: 0.372284\n",
      "epoch:  16\n",
      "Cost after iteration 16: 0.425572\n",
      "epoch:  17\n",
      "Cost after iteration 17: 0.249323\n",
      "epoch:  18\n",
      "Cost after iteration 18: 0.317589\n",
      "epoch:  19\n",
      "Cost after iteration 19: 0.238571\n"
     ]
    },
    {
     "data": {
      "image/png": "[encoded data removed]",
      "text/plain": [
       "<Figure size 640x480 with 1 Axes>"
      ]
     },
     "metadata": {},
     "output_type": "display_data"
    },
    {
     "name": "stdout",
     "output_type": "stream",
     "text": [
      "執行時間：2566.705060 秒\n"
     ]
    }
   ],
   "source": [
    "# 引入 time 模組\n",
    "import time\n",
    "\n",
    "# 開始測量\n",
    "start = time.time()\n",
    "\n",
    "# GRADED CODE: Binary classification\n",
    "### START CODE HERE ###\n",
    "learning_rate = 0.01\n",
    "num_iterations = 20\n",
    "batch_size = 16\n",
    "print_cost = True\n",
    "classes = 2\n",
    "costs = []   # keep track of cost\n",
    "\n",
    "\n",
    "# build the model\n",
    "model=Model()\n",
    "model.add(Conv(filter_size=3, input_channel=1, output_channel=16, pad=0, stride=2))\n",
    "model.add(Activation(\"relu\"))\n",
    "model.add(MaxPool(filter_size=2, stride=2))\n",
    "model.add(Conv(filter_size=3, input_channel=16, output_channel=16, pad=0, stride=2))\n",
    "model.add(Activation(\"relu\"))\n",
    "\n",
    "model.add(Flatten())\n",
    "model.add(Dense(144, 32))\n",
    "model.add(Activation(\"relu\"))\n",
    "model.add(Dense(32, 1))\n",
    "model.add(Activation(\"sigmoid\"))\n",
    "\n",
    "# Loop (gradient descent)\n",
    "for i in range(0, num_iterations):\n",
    "    print(\"epoch: \",i)\n",
    "    mini_batches = random_mini_batches(X_train, y_train, batch_size)\n",
    "    j=0\n",
    "    for batch in mini_batches:\n",
    "        x_batch, y_batch = batch\n",
    "\n",
    "        # forward\n",
    "        AL = model.forward(x_batch)\n",
    "        # compute cost\n",
    "        if classes == 2:\n",
    "            cost = compute_BCE_cost(AL,y_batch)\n",
    "        else:\n",
    "            cost = compute_CCE_cost(AL,y_batch)\n",
    "\n",
    "        # backward\n",
    "\n",
    "        dA_prev = model.backward(AL=AL, Y=y_batch)\n",
    "\n",
    "        # update\n",
    "        model.update(learning_rate)\n",
    "    \n",
    "    print (\"Cost after iteration %i: %f\" %(i, cost))\n",
    "    costs.append(cost)\n",
    "### END CODE HERE ###\n",
    "            \n",
    "# plot the cost\n",
    "plt.plot(np.squeeze(costs))\n",
    "plt.ylabel('cost')\n",
    "plt.xlabel('iterations (per hundreds)')\n",
    "plt.title(\"Learning rate =\" + str(learning_rate))\n",
    "plt.show()\n",
    "\n",
    "# 結束測量\n",
    "end = time.time()\n",
    "\n",
    "# 輸出結果\n",
    "print(\"執行時間：%f 秒\" % (end - start))"
   ]
  },
  {
   "cell_type": "code",
   "execution_count": 118,
   "metadata": {
    "id": "1hIZQOfGAPJJ"
   },
   "outputs": [],
   "source": [
    "pred_test = predict(X_test, None, model, 2)\n",
    "output[\"basic_pred_test\"] = pred_test[0].astype(int)\n",
    "\n",
    "basic_model_layers = []\n",
    "basic_model_parameters = []\n",
    "for layer in model.layers:\n",
    "    basic_model_layers.append(layer.name)\n",
    "    if(layer.name==\"conv\" or layer.name==\"dense\" or layer.name==\"maxpool\"):\n",
    "        basic_model_parameters.append(layer.parameters)\n",
    "output[\"basic_model_layers\"] = basic_model_layers\n",
    "output[\"basic_model_parameters\"] = basic_model_parameters"
   ]
  },
  {
   "cell_type": "code",
   "execution_count": 119,
   "metadata": {},
   "outputs": [
    {
     "name": "stdout",
     "output_type": "stream",
     "text": [
      "Accuracy: 0.8133333333333334\n",
      "Accuracy: 0.8833333333333333\n"
     ]
    }
   ],
   "source": [
    "pred_test = predict(X_train, y_train, model, 2)\n",
    "pred_test = predict(X_val, y_val, model, 2)"
   ]
  },
  {
   "cell_type": "markdown",
   "metadata": {
    "id": "rrrYp1RwSIOh"
   },
   "source": [
    "# 8. Advanced implementation\n",
    "In this part, you will practice how to build a model by **Tensorflow**, and you finally can use GPU to accelerate the training process☺️. You can import any packages in the advanced part.\n",
    "\n",
    "**Exercise**: Implement a binary classifier by Tensorflow. You will get 15% if your prediction achieves accuracy greater than 0.7 in testing data. The rest 10% will be graded by your rank.\n",
    "\n",
    "Except you have to build the model by Tensorflow, there is no limitation in this part. You can try different model architectures, optimization parametes and image augmentation methods to get good performance.\n",
    "\n"
   ]
  },
  {
   "cell_type": "code",
   "execution_count": 24,
   "metadata": {
    "id": "PDyxdy9Jk982"
   },
   "outputs": [],
   "source": [
    "# import some tensorflow packages to help you build the model\n",
    "import tensorflow as tf\n",
    "from tensorflow.keras import layers, models\n",
    "\n",
    "# import other packages here"
   ]
  },
  {
   "cell_type": "code",
   "execution_count": 25,
   "metadata": {
    "id": "hhAjQTjPk-I0"
   },
   "outputs": [],
   "source": [
    "# GRADED CODE: Advanced implementation\n",
    "### Data preprocess & augmentation ###\n",
    "#You may have to adjust the shape of y_train\n"
   ]
  },
  {
   "cell_type": "code",
   "execution_count": 26,
   "metadata": {
    "id": "PgL3loUQk-LO"
   },
   "outputs": [
    {
     "name": "stdout",
     "output_type": "stream",
     "text": [
      "(480, 1)\n",
      "Epoch 1/20\n",
      "15/15 [==============================] - 2s 78ms/step - loss: 0.7040 - accuracy: 0.5271 - val_loss: 0.6633 - val_accuracy: 0.5750\n",
      "Epoch 2/20\n",
      "15/15 [==============================] - 1s 63ms/step - loss: 0.6324 - accuracy: 0.6542 - val_loss: 0.6011 - val_accuracy: 0.6333\n",
      "Epoch 3/20\n",
      "15/15 [==============================] - 1s 63ms/step - loss: 0.5914 - accuracy: 0.6729 - val_loss: 0.5477 - val_accuracy: 0.7417\n",
      "Epoch 4/20\n",
      "15/15 [==============================] - 1s 66ms/step - loss: 0.5209 - accuracy: 0.7646 - val_loss: 0.4969 - val_accuracy: 0.7833\n",
      "Epoch 5/20\n",
      "15/15 [==============================] - 1s 83ms/step - loss: 0.4912 - accuracy: 0.7812 - val_loss: 0.4852 - val_accuracy: 0.8083\n",
      "Epoch 6/20\n",
      "15/15 [==============================] - 1s 73ms/step - loss: 0.4496 - accuracy: 0.8104 - val_loss: 0.4456 - val_accuracy: 0.8000\n",
      "Epoch 7/20\n",
      "15/15 [==============================] - 1s 69ms/step - loss: 0.4262 - accuracy: 0.8083 - val_loss: 0.5390 - val_accuracy: 0.7750\n",
      "Epoch 8/20\n",
      "15/15 [==============================] - 1s 61ms/step - loss: 0.4329 - accuracy: 0.8083 - val_loss: 0.4301 - val_accuracy: 0.8333\n",
      "Epoch 9/20\n",
      "15/15 [==============================] - 2s 114ms/step - loss: 0.4358 - accuracy: 0.8042 - val_loss: 0.5925 - val_accuracy: 0.7333\n",
      "Epoch 10/20\n",
      "15/15 [==============================] - 1s 62ms/step - loss: 0.4362 - accuracy: 0.8021 - val_loss: 0.4685 - val_accuracy: 0.7917\n",
      "Epoch 11/20\n",
      "15/15 [==============================] - 1s 62ms/step - loss: 0.3970 - accuracy: 0.8229 - val_loss: 0.4122 - val_accuracy: 0.8333\n",
      "Epoch 12/20\n",
      "15/15 [==============================] - 1s 87ms/step - loss: 0.3654 - accuracy: 0.8458 - val_loss: 0.4312 - val_accuracy: 0.8167\n",
      "Epoch 13/20\n",
      "15/15 [==============================] - 1s 70ms/step - loss: 0.3583 - accuracy: 0.8438 - val_loss: 0.4128 - val_accuracy: 0.8250\n",
      "Epoch 14/20\n",
      "15/15 [==============================] - 1s 68ms/step - loss: 0.3525 - accuracy: 0.8667 - val_loss: 0.4058 - val_accuracy: 0.8500\n",
      "Epoch 15/20\n",
      "15/15 [==============================] - 1s 66ms/step - loss: 0.3267 - accuracy: 0.8729 - val_loss: 0.4020 - val_accuracy: 0.8583\n",
      "Epoch 16/20\n",
      "15/15 [==============================] - 1s 67ms/step - loss: 0.3193 - accuracy: 0.8646 - val_loss: 0.4029 - val_accuracy: 0.8333\n",
      "Epoch 17/20\n",
      "15/15 [==============================] - 1s 66ms/step - loss: 0.3384 - accuracy: 0.8542 - val_loss: 0.5431 - val_accuracy: 0.7583\n",
      "Epoch 18/20\n",
      "15/15 [==============================] - 1s 69ms/step - loss: 0.3311 - accuracy: 0.8625 - val_loss: 0.4409 - val_accuracy: 0.8083\n",
      "Epoch 19/20\n",
      "15/15 [==============================] - 1s 72ms/step - loss: 0.3277 - accuracy: 0.8479 - val_loss: 0.4182 - val_accuracy: 0.8333\n",
      "Epoch 20/20\n",
      "15/15 [==============================] - 1s 67ms/step - loss: 0.3010 - accuracy: 0.8813 - val_loss: 0.4174 - val_accuracy: 0.8500\n",
      "執行時間：22.713716 秒\n",
      "Model: \"sequential\"\n",
      "_________________________________________________________________\n",
      " Layer (type)                Output Shape              Param #   \n",
      "=================================================================\n",
      " conv2d (Conv2D)             (None, 30, 30, 64)        640       \n",
      "                                                                 \n",
      " max_pooling2d (MaxPooling2D  (None, 15, 15, 64)       0         \n",
      " )                                                               \n",
      "                                                                 \n",
      " flatten (Flatten)           (None, 14400)             0         \n",
      "                                                                 \n",
      " dense (Dense)               (None, 64)                921664    \n",
      "                                                                 \n",
      " dense_1 (Dense)             (None, 64)                4160      \n",
      "                                                                 \n",
      " dense_2 (Dense)             (None, 1)                 65        \n",
      "                                                                 \n",
      "=================================================================\n",
      "Total params: 926,529\n",
      "Trainable params: 926,529\n",
      "Non-trainable params: 0\n",
      "_________________________________________________________________\n"
     ]
    }
   ],
   "source": [
    "# 引入 time 模組\n",
    "import time\n",
    "\n",
    "# 開始測量\n",
    "start = time.time()\n",
    "# GRADED CODE: Advanced implementation\n",
    "### Start training ###\n",
    "y_train = y_train.reshape(-1,1)\n",
    "y_val = y_val.reshape(-1,1)\n",
    "print(y_train.shape)\n",
    "model = models.Sequential()\n",
    "model.add(layers.Conv2D(64, (3, 3), activation='relu', input_shape=(32, 32, 1), padding=\"valid\"))\n",
    "model.add(layers.MaxPooling2D((2, 2)))\n",
    "#model.add(layers.Conv2D(128, (3, 3), activation='relu', padding=\"valid\"))\n",
    "#model.add(layers.MaxPooling2D((2, 2)))\n",
    "#model.add(layers.Conv2D(128, (3, 3), activation='sigmoid', padding=\"valid\"))\n",
    "model.add(layers.Flatten())\n",
    "model.add(layers.Dense(64, activation='relu'))\n",
    "model.add(layers.Dense(64, activation='relu'))\n",
    "model.add(layers.Dense(1, activation='sigmoid'))\n",
    "model.compile(optimizer='adam',\n",
    "              loss=tf.keras.losses.BinaryCrossentropy(),\n",
    "              metrics=['accuracy'])\n",
    "\n",
    "history = model.fit(X_train, y_train, epochs=15, \n",
    "                    validation_data=(X_val, y_val))\n",
    "\n",
    "# 結束測量\n",
    "end = time.time()\n",
    "\n",
    "# 輸出結果\n",
    "print(\"執行時間：%f 秒\" % (end - start))\n",
    "model.summary()"
   ]
  },
  {
   "cell_type": "code",
   "execution_count": 31,
   "metadata": {},
   "outputs": [
    {
     "name": "stdout",
     "output_type": "stream",
     "text": [
      "15/15 - 0s - loss: 0.2657 - accuracy: 0.9021 - 162ms/epoch - 11ms/step\n",
      "4/4 - 0s - loss: 0.4174 - accuracy: 0.8500 - 54ms/epoch - 13ms/step\n"
     ]
    },
    {
     "data": {
      "image/png": "[encoded data removed]",
      "text/plain": [
       "<Figure size 640x480 with 1 Axes>"
      ]
     },
     "metadata": {},
     "output_type": "display_data"
    }
   ],
   "source": [
    "plt.plot(history.history['accuracy'], label='accuracy')\n",
    "plt.plot(history.history['val_accuracy'], label = 'val_accuracy')\n",
    "#plt.plot(history.history['loss'], label='loss')\n",
    "plt.xlabel('Epoch')\n",
    "plt.ylabel('Accuracy')\n",
    "plt.ylim([0, 1])\n",
    "plt.legend(loc='lower right')\n",
    "\n",
    "test_loss, test_acc = model.evaluate(X_train,  y_train, verbose=2)\n",
    "test_loss, test_acc = model.evaluate(X_val,  y_val, verbose=2)"
   ]
  },
  {
   "cell_type": "code",
   "execution_count": 28,
   "metadata": {
    "id": "pObMJ67hk-Ov"
   },
   "outputs": [
    {
     "name": "stdout",
     "output_type": "stream",
     "text": [
      "2/2 [==============================] - 0s 14ms/step\n",
      "[1 0 1 1 1 1 1 1 1 0 0 1 1 0 0 0 1 1 1 1 1 0 1 1 0 1 1 0 1 1 0 1 0 0 0 0 1\n",
      " 1 0 0 0 0 1 0 0 1 0 0 0 1 1 0 1 1 0 0 0 0 0 1]\n"
     ]
    }
   ],
   "source": [
    "pred_test = model.predict(X_test)\n",
    "#print(pred_test)\n",
    "#pred_test = np.argmax(pred_test, axis = 1)\n",
    "#pred_test = pred_test.astype(int)\n",
    "pred_test = (pred_test >= 0.5).astype(\"int32\").flatten()\n",
    "output[\"advanced_pred_test\"] = pred_test\n",
    "print(pred_test)"
   ]
  },
  {
   "cell_type": "markdown",
   "metadata": {
    "id": "WXGnS3HQeNUc"
   },
   "source": [
    "# Submit prediction"
   ]
  },
  {
   "cell_type": "code",
   "execution_count": 136,
   "metadata": {
    "id": "twMsmXbQeDL_"
   },
   "outputs": [],
   "source": [
    "# sanity check\n",
    "assert(list(output.keys()) == ['conv_initialization', 'zero_padding', 'conv_single_step', 'conv_forward_1', 'conv_forward_2', 'conv_forward_3', 'conv_update_1', 'conv_update_2', 'maxpool_forward', 'flatten_forward', 'flatten_backward', 'model_1', 'model_2', 'model_3', 'model_4', 'basic_pred_test', 'basic_model_layers', 'basic_model_parameters', 'advanced_pred_test'])"
   ]
  },
  {
   "cell_type": "code",
   "execution_count": 137,
   "metadata": {
    "id": "bCJ0XTO_zE8A"
   },
   "outputs": [],
   "source": [
    "np.save(\"hw4_output.npy\", output)"
   ]
  },
  {
   "cell_type": "code",
   "execution_count": 138,
   "metadata": {
    "id": "wFBFUUEg1to-"
   },
   "outputs": [
    {
     "name": "stdout",
     "output_type": "stream",
     "text": [
      "conv_initialization： <class 'numpy.ndarray'>\n",
      "zero_padding： <class 'numpy.ndarray'>\n",
      "conv_single_step： <class 'numpy.float64'>\n",
      "conv_forward_1： <class 'numpy.float64'>\n",
      "conv_forward_2： <class 'numpy.ndarray'>\n",
      "conv_forward_3： <class 'numpy.ndarray'>\n",
      "conv_update_1： <class 'numpy.ndarray'>\n",
      "conv_update_2： <class 'numpy.ndarray'>\n",
      "maxpool_forward： <class 'numpy.ndarray'>\n",
      "flatten_forward： <class 'numpy.ndarray'>\n",
      "flatten_backward： <class 'numpy.ndarray'>\n",
      "model_1： <class 'numpy.ndarray'>\n",
      "model_2： <class 'numpy.ndarray'>\n",
      "model_3： <class 'numpy.ndarray'>\n",
      "model_4： <class 'numpy.ndarray'>\n",
      "basic_pred_test： <class 'numpy.ndarray'>\n",
      "basic_model_layers： <class 'list'>\n",
      "basic_model_parameters： <class 'list'>\n",
      "advanced_pred_test： <class 'numpy.ndarray'>\n",
      "conv_initialization： [-0.09325922  0.24762335 -0.56182294 -0.22215901 -0.3970121  -0.45817187\n",
      " -0.35261308 -0.17357476 -0.11602334  0.04362624 -0.09081753  0.20816875\n",
      " -0.332167    0.42496731 -0.53117049  0.19158894]\n",
      "zero_padding： [ 0.          1.62434536 -0.52817175  0.        ]\n",
      "conv_single_step： -5.19283565556167\n",
      "conv_forward_1： -0.025410827460854542\n",
      "conv_forward_2： [ 0.26114013  0.21259916 -1.80334939 -1.06248626  0.06516598 -1.01323901\n",
      " -0.03256135 -0.10438978 -1.75530114  0.68700156 -0.57135897 -0.53001883\n",
      "  0.31869895  0.78008219 -0.67668311 -0.14359365]\n",
      "conv_forward_3： [-0.35224985 -1.1425182  -0.34934272]\n",
      "conv_update_1： [-0.28500116  0.38661649 -0.68556283 -0.18467728 -0.60831689 -0.37200193\n",
      " -0.63790556 -0.15200123]\n",
      "conv_update_2： [[[[-0.06233622  0.04349567 -0.140754   -0.01291016 -0.16169496\n",
      "    -0.05027409 -0.15588055 -0.01094027]]]]\n",
      "maxpool_forward： [[[[ 0.69803203  0.84616065  1.2245077 ]\n",
      "   [ 0.69803203  1.12141771  1.2245077 ]\n",
      "   [ 0.40349164  1.12141771  1.27375593]\n",
      "   [ 1.96710175  0.74055645  1.27375593]]\n",
      "\n",
      "  [[ 1.62765075  0.84616065 -0.03869551]\n",
      "   [ 0.86334532  1.12141771  0.79280687]\n",
      "   [-0.02461696  1.12141771  1.27375593]\n",
      "   [ 1.96710175  0.52057634  1.27375593]]\n",
      "\n",
      "  [[ 1.62765075  0.86888616  0.75041164]\n",
      "   [ 0.86334532  0.5505375   0.79280687]\n",
      "   [ 0.61838026  0.5505375   1.0388246 ]\n",
      "   [ 2.18697965  0.52057634  1.0388246 ]]\n",
      "\n",
      "  [[ 0.52946532  0.86888616  0.75041164]\n",
      "   [ 0.61838026  0.23249456  0.68255141]\n",
      "   [ 0.61838026  0.98633519  1.0388246 ]\n",
      "   [ 2.19069973  0.98633519  1.0388246 ]]]\n",
      "\n",
      "\n",
      " [[[ 0.90148689  2.52832571  1.33145711]\n",
      "   [ 1.90465871  1.16033857  1.33145711]\n",
      "   [ 1.90465871  1.1110567   0.6590498 ]\n",
      "   [ 1.29322588  1.04444209  0.50318481]]\n",
      "\n",
      "  [[ 0.82400562  1.16033857  1.95487808]\n",
      "   [ 1.90465871  1.16033857  1.9560789 ]\n",
      "   [ 1.90465871  1.1110567   1.9560789 ]\n",
      "   [ 0.81095167  1.04444209  1.11438298]]\n",
      "\n",
      "  [[ 0.82400562  1.6169496   1.95487808]\n",
      "   [ 1.55880554  1.6169496   1.9560789 ]\n",
      "   [ 2.44936865  0.1094027   1.9560789 ]\n",
      "   [ 2.44936865 -0.20339445  1.11438298]]\n",
      "\n",
      "  [[ 0.62336218  1.6169496   1.79215821]\n",
      "   [ 1.55880554  1.6169496   0.82502982]\n",
      "   [ 2.44936865  0.1094027   0.82502982]\n",
      "   [ 2.44936865 -0.20339445  0.67471153]]]]\n",
      "flatten_forward： [ 1.62434536 -0.61175641 -0.52817175 -1.07296862  0.86540763 -2.3015387\n",
      "  1.74481176 -0.7612069   0.3190391  -0.24937038  1.46210794 -2.06014071\n",
      " -0.3224172  -0.38405435  1.13376944 -1.09989127 -0.17242821 -0.87785842]\n",
      "flatten_backward： [[[ 1.62434536 -0.61175641 -0.52817175]\n",
      "  [-1.07296862  0.86540763 -2.3015387 ]\n",
      "  [ 1.74481176 -0.7612069   0.3190391 ]]\n",
      "\n",
      " [[-0.24937038  1.46210794 -2.06014071]\n",
      "  [-0.3224172  -0.38405435  1.13376944]\n",
      "  [-1.09989127 -0.17242821 -0.87785842]]\n",
      "\n",
      " [[ 0.04221375  0.58281521 -1.10061918]\n",
      "  [ 1.14472371  0.90159072  0.50249434]\n",
      "  [ 0.90085595 -0.68372786 -0.12289023]]]\n",
      "model_1： [-0.13670335  0.1397407   0.16612258  0.76528723  0.10021114 -0.41514624\n",
      " -0.4020858   0.42332622 -0.05482349 -0.3929553  -0.01989065 -0.31249842\n",
      " -0.29736331  0.22091021  0.24546934  0.52072285]\n",
      "model_2： [[[[-0.08262884  0.09486802  1.3337956   0.41131516  0.15945978\n",
      "     0.11454121  1.02310747  0.16383885 -0.90466554 -0.50494674\n",
      "     0.56759891 -0.24664856  1.46697663 -0.42674201  0.28021314\n",
      "     0.15996821]]]]\n",
      "model_3： [-0.5435689  -0.67590134 -1.25975368 -0.6142498  -0.46074641 -0.74496319\n",
      " -1.21705698 -1.04361777]\n",
      "model_4： [[-0.42498924]]\n",
      "basic_pred_test： [1 1 1 1 1 1 0 0 1 0 1 1 1 0 0 1 1 1 1 0 1 0 0 1 0 1 0 0 1 1 0 1 0 0 0 0 1\n",
      " 0 0 0 0 1 1 0 0 1 0 0 1 1 1 0 1 1 1 0 0 0 0 1]\n",
      "basic_model_layers： ['conv', 'relu', 'maxpool', 'conv', 'relu', 'flatten', 'dense', 'relu', 'dense', 'sigmoid']\n",
      "basic_model_parameters： [{'pad': 0, 'stride': 2, 'W': array([[[[-0.3134816 ,  0.24197962, -0.59550195, -0.29489292,\n",
      "          -0.53902809, -0.64885196, -0.53493245, -0.22884841,\n",
      "          -0.07247134,  0.10400241, -0.0960546 ,  0.59345871,\n",
      "          -0.41659044,  0.77384523, -0.56259991,  0.2015341 ]],\n",
      "\n",
      "        [[-0.0146453 ,  0.05185146, -0.44093755, -0.52172164,\n",
      "           0.27761098,  0.63124677, -0.54264914,  0.17316019,\n",
      "           0.51681675,  0.65914569, -0.49305657, -0.46663067,\n",
      "          -0.49000647,  0.49234653, -0.47765436, -0.09351386]],\n",
      "\n",
      "        [[ 0.66261132,  0.01877368,  0.17509649, -0.39692849,\n",
      "           0.16430905,  0.50512035, -0.76531166,  0.19663751,\n",
      "           0.97579674,  0.511927  , -0.26087963,  0.42434842,\n",
      "          -0.50837915, -0.10699758,  0.48504558, -0.24506252]]],\n",
      "\n",
      "\n",
      "       [[[-0.67018589, -0.47387389, -0.57144232,  0.12801936,\n",
      "          -0.42956387, -0.33220538,  0.01017324, -0.53419262,\n",
      "           0.04250589, -0.23893231,  0.1060892 ,  0.69096011,\n",
      "          -0.47677211,  0.0078255 ,  0.2313005 , -0.10262936]],\n",
      "\n",
      "        [[-0.46882606,  0.01559138,  0.17623733, -0.07935177,\n",
      "           0.45106527,  0.19492447,  0.35665669, -0.44717663,\n",
      "          -0.70066099,  0.60274348, -0.12157331, -0.21014334,\n",
      "           0.59408615, -0.14845386,  0.30065042,  0.26805989]],\n",
      "\n",
      "        [[ 0.88866538,  0.13118293,  0.24399937, -0.26912117,\n",
      "          -0.32144086,  0.61583976, -0.29903411,  0.49083276,\n",
      "           0.79241309,  0.46332487, -0.45776537,  0.73411681,\n",
      "           0.07438707,  0.3719059 , -0.10486761, -0.31246615]]],\n",
      "\n",
      "\n",
      "       [[[ 0.40762846,  0.04461901, -0.5905712 ,  0.24081661,\n",
      "          -0.29221751,  0.16531739,  0.51653792, -0.16954865,\n",
      "           0.49510508,  0.18692364, -0.57529692,  0.62052852,\n",
      "           0.3235948 ,  0.45698359, -0.38801005, -0.43122005]],\n",
      "\n",
      "        [[ 0.85685082,  0.19211239, -0.53423355,  0.37286888,\n",
      "           0.23056219,  0.62477106,  0.33924901, -0.45455839,\n",
      "          -0.98730872, -0.61958339, -0.56048668, -0.31653758,\n",
      "           0.69425611,  0.04888099,  0.0625889 ,  0.40627593]],\n",
      "\n",
      "        [[ 0.0462771 , -0.28628874,  0.05014133,  0.5190013 ,\n",
      "           0.02246207, -0.55634957,  0.38057677, -0.35413748,\n",
      "           0.76385092,  0.05232096,  0.43185755,  0.32129464,\n",
      "           0.36874585, -0.11212958, -0.52115263, -0.45008805]]]]), 'b': array([[[[-1.35589084e-01, -3.93813017e-02, -1.01299090e-01,\n",
      "           3.99587191e-01, -1.13292917e-01, -5.79941718e-01,\n",
      "           4.44668857e-01, -1.34007503e-01,  5.33553683e-01,\n",
      "          -2.51306957e-01, -5.47609867e-05, -6.17547152e-01,\n",
      "           5.50322067e-01, -3.01314345e-01,  2.26194862e-03,\n",
      "          -2.05531206e-03]]]])}, {'f': 2, 'stride': 2}, {'pad': 0, 'stride': 2, 'W': array([[[[-0.05507452,  0.3346193 , -0.45954633, ...,  0.36630862,\n",
      "          -0.44802441,  0.10498023],\n",
      "         [-0.07213284,  0.05194741, -0.31509103, ...,  0.32667321,\n",
      "          -0.34836068, -0.06829771],\n",
      "         [ 0.39650676,  0.02764916,  0.16596233, ..., -0.04551249,\n",
      "           0.35382152, -0.17871917],\n",
      "         ...,\n",
      "         [ 0.32406021,  0.17709325, -0.08727224, ...,  0.02573558,\n",
      "          -0.44863849,  0.22998348],\n",
      "         [-0.13454941,  0.38127774,  0.07090547, ...,  0.08094076,\n",
      "          -0.05754128,  0.26615087],\n",
      "         [-0.16000189,  0.34025453,  0.06743041, ...,  0.41030759,\n",
      "           0.09068184,  0.28478828]],\n",
      "\n",
      "        [[-0.02249348, -0.0416211 , -0.21122645, ..., -0.23899455,\n",
      "          -0.05262341, -0.20285467],\n",
      "         [ 0.1057338 , -0.06036648,  0.40591753, ...,  0.30681273,\n",
      "           0.0237224 ,  0.26203205],\n",
      "         [ 0.06207513,  0.20200468,  0.01662122, ...,  0.32473311,\n",
      "           0.1629558 ,  0.05975055],\n",
      "         ...,\n",
      "         [ 0.24033973, -0.06199631,  0.39347188, ...,  0.39263714,\n",
      "          -0.32440642, -0.0036932 ],\n",
      "         [-0.15075561,  0.31127582,  0.05078161, ..., -0.21876145,\n",
      "          -0.11179085,  0.3740027 ],\n",
      "         [ 0.37833912,  0.29819848,  0.36390952, ..., -0.22485862,\n",
      "           0.06427562, -0.13078058]],\n",
      "\n",
      "        [[-0.52213939, -0.51971581,  0.12619381, ..., -0.52656939,\n",
      "          -0.31641701, -0.38246188],\n",
      "         [-0.04185818, -0.10664487,  0.40843899, ...,  0.19955671,\n",
      "          -0.02726357, -0.03669185],\n",
      "         [-0.31386225, -0.42350321,  0.22359791, ...,  0.15063028,\n",
      "           0.23391612, -0.32008473],\n",
      "         ...,\n",
      "         [ 0.08950109,  0.28010584,  0.08995209, ..., -0.12674645,\n",
      "           0.2397116 ,  0.06290984],\n",
      "         [ 0.38857835,  0.10781723,  0.2926975 , ...,  0.26202296,\n",
      "          -0.01918385, -0.31666967],\n",
      "         [ 0.37053004,  0.34292   , -0.00731584, ..., -0.42080441,\n",
      "           0.18701446,  0.05585718]]],\n",
      "\n",
      "\n",
      "       [[[-0.02300859, -0.04279211,  0.25600169, ...,  0.38301813,\n",
      "          -0.15776537,  0.36772814],\n",
      "         [ 0.11672316, -0.1104487 ,  0.30568454, ...,  0.03777001,\n",
      "          -0.01068028,  0.30840732],\n",
      "         [ 0.33351483, -0.27183717,  0.07285096, ..., -0.13655129,\n",
      "           0.24220695, -0.28112299],\n",
      "         ...,\n",
      "         [ 0.08999075,  0.08005929, -0.22362082, ...,  0.58610547,\n",
      "           0.25120179, -0.22281848],\n",
      "         [ 0.02402582, -0.13910647,  0.04750677, ..., -0.2505266 ,\n",
      "          -0.39711225, -0.15424898],\n",
      "         [-0.40084673,  0.16794513,  0.14743698, ...,  0.10172961,\n",
      "          -0.05858231,  0.30113116]],\n",
      "\n",
      "        [[ 0.16514916, -0.58825402,  0.30484995, ..., -0.18062104,\n",
      "           0.24191949,  0.26502525],\n",
      "         [-0.3972694 , -0.01148932, -0.22944289, ..., -0.37776153,\n",
      "           0.32013449,  0.17467105],\n",
      "         [ 0.09038277,  0.20066048, -0.21373181, ..., -0.06760388,\n",
      "          -0.37696717,  0.34371172],\n",
      "         ...,\n",
      "         [-0.08479653,  0.60173272, -0.33334917, ...,  0.17002257,\n",
      "          -0.0185524 ,  0.25600024],\n",
      "         [-0.00520663, -0.12005419, -0.19463955, ...,  0.29179545,\n",
      "           0.21142228,  0.07841448],\n",
      "         [-0.22266243,  0.10673516,  0.11981922, ..., -0.22147157,\n",
      "          -0.36430088, -0.17072972]],\n",
      "\n",
      "        [[ 0.12832004,  0.21990756,  0.12470103, ...,  0.06266574,\n",
      "           0.06434532,  0.29467697],\n",
      "         [-0.01266811,  0.07988815,  0.24493771, ...,  0.16338487,\n",
      "          -0.08343886, -0.31474463],\n",
      "         [-0.0430465 , -0.14319991, -0.24435178, ..., -0.37100378,\n",
      "           0.41446745, -0.22831811],\n",
      "         ...,\n",
      "         [-0.14725344, -0.30858127,  0.05272927, ...,  0.07256936,\n",
      "           0.15469164, -0.04755444],\n",
      "         [-0.38170586, -0.00605816, -0.03023553, ..., -0.31267551,\n",
      "           0.37696484,  0.33655057],\n",
      "         [-0.18248696,  0.38771803,  0.30303428, ...,  0.24266649,\n",
      "          -0.30674836, -0.22095473]]],\n",
      "\n",
      "\n",
      "       [[[-0.18604456, -0.28443227, -0.38275539, ...,  0.29484693,\n",
      "           0.2078516 ,  0.30278471],\n",
      "         [ 0.14627817,  0.26677712,  0.3412376 , ..., -0.27916518,\n",
      "           0.40642989,  0.20985822],\n",
      "         [-0.21077006,  0.07099589,  0.39352247, ..., -0.07769559,\n",
      "          -0.35753733, -0.11134622],\n",
      "         ...,\n",
      "         [ 0.31850751, -0.56950718,  0.40291729, ..., -0.14598658,\n",
      "          -0.43121789, -0.34420591],\n",
      "         [-0.09057023,  0.39454368, -0.33737727, ..., -0.33788443,\n",
      "           0.37991616,  0.30092725],\n",
      "         [ 0.13772892, -0.10494039, -0.07225441, ...,  0.36202076,\n",
      "           0.29163237,  0.04508105]],\n",
      "\n",
      "        [[ 0.34709367,  0.29313441,  0.24950352, ...,  0.41248448,\n",
      "          -0.4067658 , -0.12667826],\n",
      "         [-0.22904311, -0.17566556,  0.20206233, ...,  0.1343187 ,\n",
      "           0.39823648, -0.42983107],\n",
      "         [ 0.19359848, -0.34029443,  0.03780831, ..., -0.213378  ,\n",
      "           0.12935115,  0.18730462],\n",
      "         ...,\n",
      "         [ 0.03088401,  0.47930129,  0.05909231, ..., -0.35938823,\n",
      "          -0.36905567, -0.27061147],\n",
      "         [-0.19717829,  0.08555371,  0.32302517, ..., -0.34168015,\n",
      "          -0.18625423,  0.23289889],\n",
      "         [ 0.1219214 ,  0.26096004,  0.01482682, ..., -0.28344917,\n",
      "          -0.15384293, -0.21787099]],\n",
      "\n",
      "        [[-0.03281333,  0.36879292,  0.29239164, ..., -0.31897479,\n",
      "           0.34956685, -0.36827025],\n",
      "         [-0.2394622 , -0.40353448,  0.14949679, ..., -0.06616406,\n",
      "          -0.19804365, -0.17192537],\n",
      "         [ 0.14928079,  0.015492  , -0.26848662, ...,  0.41730523,\n",
      "          -0.31792708, -0.18749625],\n",
      "         ...,\n",
      "         [-0.08903161, -0.17540973,  0.37620115, ..., -0.32017042,\n",
      "          -0.14058657,  0.30215246],\n",
      "         [ 0.37240961,  0.10848414, -0.31799805, ...,  0.36633138,\n",
      "           0.34820003, -0.09028292],\n",
      "         [-0.36024863,  0.28541921,  0.03371709, ...,  0.00814807,\n",
      "           0.33413201,  0.05654251]]]]), 'b': array([[[[-0.03236376,  0.07199521, -0.02197715, -0.00108034,\n",
      "           0.06967291, -0.00108687, -0.00130067, -0.02806014,\n",
      "           0.04437652,  0.0330817 ,  0.05036934, -0.04005792,\n",
      "          -0.00982346,  0.04716206,  0.01986608, -0.05043336]]]])}, {'W': array([[-0.0378846 ,  0.08019934, -0.18456982, ..., -0.13606322,\n",
      "        -0.1622806 , -0.13978748],\n",
      "       [-0.16567918, -0.15146886, -0.10073943, ...,  0.13616554,\n",
      "         0.00998463,  0.11159179],\n",
      "       [ 0.01595494,  0.09779755,  0.00591827, ...,  0.08335985,\n",
      "        -0.01611884, -0.01830521],\n",
      "       ...,\n",
      "       [ 0.03968033,  0.01706457, -0.05407216, ...,  0.17364738,\n",
      "         0.17834193,  0.16162845],\n",
      "       [-0.13531249,  0.14310469, -0.12818915, ...,  0.00103344,\n",
      "        -0.01570181,  0.0991977 ],\n",
      "       [-0.12066759,  0.00638581, -0.13235208, ..., -0.0600482 ,\n",
      "        -0.16982448, -0.06212726]]), 'b': array([[-2.04122875e-03],\n",
      "       [-2.49536986e-03],\n",
      "       [ 5.77662037e-03],\n",
      "       [-7.94268174e-05],\n",
      "       [ 2.36378624e-04],\n",
      "       [ 7.34472718e-03],\n",
      "       [ 1.16793159e-02],\n",
      "       [-6.91888067e-03],\n",
      "       [ 5.69732060e-03],\n",
      "       [-6.65009829e-04],\n",
      "       [ 2.18202167e-04],\n",
      "       [-1.72128164e-03],\n",
      "       [ 7.42209542e-04],\n",
      "       [-7.49378328e-03],\n",
      "       [ 4.10791168e-03],\n",
      "       [ 4.05708702e-04],\n",
      "       [ 2.15841022e-04],\n",
      "       [ 0.00000000e+00],\n",
      "       [ 1.11230957e-02],\n",
      "       [-9.56463265e-04],\n",
      "       [ 5.98763931e-03],\n",
      "       [-4.43275567e-03],\n",
      "       [-3.65401334e-03],\n",
      "       [ 5.67631124e-03],\n",
      "       [-3.77746778e-05],\n",
      "       [-9.68304858e-04],\n",
      "       [ 1.12231555e-02],\n",
      "       [ 8.26932993e-03],\n",
      "       [-5.59734514e-03],\n",
      "       [-1.86873777e-03],\n",
      "       [ 1.90387268e-03],\n",
      "       [ 2.61383357e-03]])}, {'W': array([[-0.07565846,  0.17003721, -0.46875834, -0.16855848, -0.30171687,\n",
      "        -0.42717662, -0.31980357, -0.10340197, -0.12669962,  0.06639667,\n",
      "        -0.06956636,  0.13535543, -0.30083487,  0.31979454, -0.42893888,\n",
      "         0.14111445, -0.07066325,  0.05005085, -0.3417629 , -0.25731663,\n",
      "         0.27628033,  0.46726931, -0.15648802,  0.27364269,  0.32097203,\n",
      "         0.33627139, -0.47318336, -0.4047583 , -0.27736013,  0.37740631,\n",
      "        -0.34307611, -0.07431224]]), 'b': array([[-0.00055798]])}]\n",
      "advanced_pred_test： [1 0 1 1 1 1 1 1 1 0 0 1 0 0 0 0 1 1 1 1 1 0 0 1 0 1 1 0 1 1 0 1 0 0 0 0 1\n",
      " 0 0 0 0 0 1 0 0 1 0 0 0 1 1 0 1 1 0 0 0 0 0 1]\n"
     ]
    }
   ],
   "source": [
    "# sanity check\n",
    "submit = np.load(\"hw4_output.npy\", allow_pickle=True).item()\n",
    "for key, value in submit.items():\n",
    "    print(str(key) + \"： \" + str(type(value)))\n",
    "\n",
    "for key, value in submit.items():\n",
    "    print(str(key) + \"： \" + str((value)))"
   ]
  },
  {
   "cell_type": "markdown",
   "metadata": {
    "id": "MBkBtZHxIh8Z"
   },
   "source": [
    "Expected output:<br>\n",
    "<small>\n",
    "conv_initialization： <class 'numpy.ndarray'> <br>\n",
    "zero_padding： <class 'numpy.ndarray'> <br>\n",
    "conv_single_step： <class 'numpy.ndarray'> <br>\n",
    "conv_forward_1： <class 'numpy.float64'> <br>\n",
    "conv_forward_2： <class 'numpy.ndarray'> <br>\n",
    "conv_forward_3： <class 'numpy.ndarray'> <br>\n",
    "conv_update_1： <class 'numpy.ndarray'> <br>\n",
    "conv_update_2： <class 'numpy.ndarray'> <br>\n",
    "maxpool_forward： <class 'numpy.ndarray'> <br>\n",
    "flatten_forward： <class 'numpy.ndarray'> <br>\n",
    "flatten_backward： <class 'numpy.ndarray'> <br>\n",
    "model_1： <class 'numpy.ndarray'> <br>\n",
    "model_2： <class 'numpy.ndarray'> <br>\n",
    "model_3： <class 'numpy.ndarray'> <br>\n",
    "model_4： <class 'numpy.ndarray'> <br>\n",
    "basic_pred_test： <class 'numpy.ndarray'> <br>\n",
    "basic_model_layers： <class 'list'> <br>\n",
    "basic_model_parameters： <class 'list'> <br>\n",
    "advanced_pred_test： <class 'numpy.ndarray'> <br>\n",
    "</small>"
   ]
  },
  {
   "cell_type": "code",
   "execution_count": null,
   "metadata": {},
   "outputs": [],
   "source": []
  }
 ],
 "metadata": {
  "colab": {
   "collapsed_sections": [
    "764-uaZwLGNL",
    "bbGLz2F_ReRr",
    "YXSF-PhOxauK",
    "5Haf0l4nau3y",
    "36my0zWnlv3K",
    "K2X2fb7aoJTg",
    "qdK9_gnZAjYD"
   ],
   "provenance": []
  },
  "kernelspec": {
   "display_name": "Python 3 (ipykernel)",
   "language": "python",
   "name": "python3"
  },
  "language_info": {
   "codemirror_mode": {
    "name": "ipython",
    "version": 3
   },
   "file_extension": ".py",
   "mimetype": "text/x-python",
   "name": "python",
   "nbconvert_exporter": "python",
   "pygments_lexer": "ipython3",
   "version": "3.9.13"
  }
 },
 "nbformat": 4,
 "nbformat_minor": 1
}
